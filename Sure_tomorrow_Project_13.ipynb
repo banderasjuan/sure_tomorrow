{
 "cells": [
  {
   "cell_type": "markdown",
   "metadata": {},
   "source": [
    "La compañía de seguros Sure Tomorrow quiere resolver varias tareas con la ayuda de machine learning y te pide que evalúes esa posibilidad.\n",
    "- Tarea 1: encontrar clientes que sean similares a un cliente determinado. Esto ayudará a los agentes de la compañía con el marketing.\n",
    "- Tarea 2: predecir la probabilidad de que un nuevo cliente reciba una prestación del seguro. ¿Puede un modelo de predictivo funcionar mejor que un modelo dummy?\n",
    "- Tarea 3: predecir el número de prestaciones de seguro que un nuevo cliente pueda recibir utilizando un modelo de regresión lineal.\n",
    "- Tarea 4: proteger los datos personales de los clientes sin afectar al modelo del ejercicio anterior. Es necesario desarrollar un algoritmo de transformación de datos que dificulte la recuperación de la información personal si los datos caen en manos equivocadas. Esto se denomina enmascaramiento u ofuscación de datos. Pero los datos deben protegerse de tal manera que no se vea afectada la calidad de los modelos de machine learning. No es necesario elegir el mejor modelo, basta con demostrar que el algoritmo funciona correctamente.\n"
   ]
  },
  {
   "cell_type": "markdown",
   "metadata": {},
   "source": [
    "# Preprocesamiento y exploración de datos\n",
    "\n",
    "## Inicialización"
   ]
  },
  {
   "cell_type": "code",
   "execution_count": 1,
   "metadata": {},
   "outputs": [
    {
     "name": "stdout",
     "output_type": "stream",
     "text": [
      "Requirement already satisfied: scikit-learn in /opt/conda/envs/python3/lib/python3.9/site-packages (0.24.1)\n",
      "Collecting scikit-learn\n",
      "  Downloading scikit_learn-1.6.1-cp39-cp39-manylinux_2_17_x86_64.manylinux2014_x86_64.whl.metadata (18 kB)\n",
      "Requirement already satisfied: numpy>=1.19.5 in /opt/conda/envs/python3/lib/python3.9/site-packages (from scikit-learn) (1.21.2)\n",
      "Requirement already satisfied: scipy>=1.6.0 in /opt/conda/envs/python3/lib/python3.9/site-packages (from scikit-learn) (1.10.1)\n",
      "Requirement already satisfied: joblib>=1.2.0 in /opt/conda/envs/python3/lib/python3.9/site-packages (from scikit-learn) (1.4.2)\n",
      "Requirement already satisfied: threadpoolctl>=3.1.0 in /opt/conda/envs/python3/lib/python3.9/site-packages (from scikit-learn) (3.5.0)\n",
      "Downloading scikit_learn-1.6.1-cp39-cp39-manylinux_2_17_x86_64.manylinux2014_x86_64.whl (13.5 MB)\n",
      "\u001b[2K   \u001b[90m━━━━━━━━━━━━━━━━━━━━━━━━━━━━━━━━━━━━━━━━\u001b[0m \u001b[32m13.5/13.5 MB\u001b[0m \u001b[31m110.2 MB/s\u001b[0m eta \u001b[36m0:00:00\u001b[0m00:01\u001b[0m0:01\u001b[0m\n",
      "\u001b[?25hInstalling collected packages: scikit-learn\n",
      "  Attempting uninstall: scikit-learn\n",
      "    Found existing installation: scikit-learn 0.24.1\n",
      "    Uninstalling scikit-learn-0.24.1:\n",
      "\u001b[31mERROR: Could not install packages due to an OSError: [Errno 13] Permission denied: 'COPYING'\n",
      "Consider using the `--user` option or check the permissions.\n",
      "\u001b[0m\u001b[31m\n",
      "\u001b[0mNote: you may need to restart the kernel to use updated packages.\n"
     ]
    }
   ],
   "source": [
    "pip install scikit-learn --upgrade"
   ]
  },
  {
   "cell_type": "code",
   "execution_count": 2,
   "metadata": {},
   "outputs": [],
   "source": [
    "#Importamos las librerias que vamos a necesitar\n",
    "import numpy as np\n",
    "import pandas as pd\n",
    "\n",
    "import seaborn as sns\n",
    "from matplotlib import pyplot as plt\n",
    "from sklearn.neighbors import NearestNeighbors\n",
    "from sklearn.neighbors import KNeighborsClassifier\n",
    "\n",
    "import sklearn.linear_model\n",
    "import sklearn.metrics\n",
    "import sklearn.neighbors\n",
    "import sklearn.preprocessing\n",
    "import math \n",
    "\n",
    "from sklearn.model_selection import train_test_split\n",
    "\n",
    "from IPython.display import display"
   ]
  },
  {
   "cell_type": "markdown",
   "metadata": {},
   "source": [
    "## Carga de datos"
   ]
  },
  {
   "cell_type": "markdown",
   "metadata": {},
   "source": [
    "Carga los datos y haz una revisión básica para comprobar que no hay problemas obvios."
   ]
  },
  {
   "cell_type": "code",
   "execution_count": 3,
   "metadata": {},
   "outputs": [],
   "source": [
    "df = pd.read_csv('/datasets/insurance_us.csv')"
   ]
  },
  {
   "cell_type": "markdown",
   "metadata": {},
   "source": [
    "Renombramos las columnas para que el código se vea más coherente con su estilo."
   ]
  },
  {
   "cell_type": "code",
   "execution_count": 4,
   "metadata": {},
   "outputs": [],
   "source": [
    "df = df.rename(columns={'Gender': 'gender', 'Age': 'age', 'Salary': 'income', 'Family members': 'family_members', 'Insurance benefits': 'insurance_benefits'})"
   ]
  },
  {
   "cell_type": "code",
   "execution_count": 5,
   "metadata": {},
   "outputs": [
    {
     "data": {
      "text/html": [
       "<div>\n",
       "<style scoped>\n",
       "    .dataframe tbody tr th:only-of-type {\n",
       "        vertical-align: middle;\n",
       "    }\n",
       "\n",
       "    .dataframe tbody tr th {\n",
       "        vertical-align: top;\n",
       "    }\n",
       "\n",
       "    .dataframe thead th {\n",
       "        text-align: right;\n",
       "    }\n",
       "</style>\n",
       "<table border=\"1\" class=\"dataframe\">\n",
       "  <thead>\n",
       "    <tr style=\"text-align: right;\">\n",
       "      <th></th>\n",
       "      <th>gender</th>\n",
       "      <th>age</th>\n",
       "      <th>income</th>\n",
       "      <th>family_members</th>\n",
       "      <th>insurance_benefits</th>\n",
       "    </tr>\n",
       "  </thead>\n",
       "  <tbody>\n",
       "    <tr>\n",
       "      <th>144</th>\n",
       "      <td>0</td>\n",
       "      <td>25.0</td>\n",
       "      <td>52800.0</td>\n",
       "      <td>2</td>\n",
       "      <td>0</td>\n",
       "    </tr>\n",
       "    <tr>\n",
       "      <th>2138</th>\n",
       "      <td>0</td>\n",
       "      <td>20.0</td>\n",
       "      <td>46800.0</td>\n",
       "      <td>2</td>\n",
       "      <td>0</td>\n",
       "    </tr>\n",
       "    <tr>\n",
       "      <th>1995</th>\n",
       "      <td>0</td>\n",
       "      <td>45.0</td>\n",
       "      <td>41000.0</td>\n",
       "      <td>0</td>\n",
       "      <td>1</td>\n",
       "    </tr>\n",
       "    <tr>\n",
       "      <th>3812</th>\n",
       "      <td>1</td>\n",
       "      <td>33.0</td>\n",
       "      <td>20300.0</td>\n",
       "      <td>2</td>\n",
       "      <td>0</td>\n",
       "    </tr>\n",
       "    <tr>\n",
       "      <th>1687</th>\n",
       "      <td>0</td>\n",
       "      <td>32.0</td>\n",
       "      <td>32000.0</td>\n",
       "      <td>2</td>\n",
       "      <td>0</td>\n",
       "    </tr>\n",
       "    <tr>\n",
       "      <th>1919</th>\n",
       "      <td>1</td>\n",
       "      <td>22.0</td>\n",
       "      <td>32800.0</td>\n",
       "      <td>0</td>\n",
       "      <td>0</td>\n",
       "    </tr>\n",
       "    <tr>\n",
       "      <th>2378</th>\n",
       "      <td>1</td>\n",
       "      <td>39.0</td>\n",
       "      <td>32100.0</td>\n",
       "      <td>1</td>\n",
       "      <td>0</td>\n",
       "    </tr>\n",
       "    <tr>\n",
       "      <th>3604</th>\n",
       "      <td>0</td>\n",
       "      <td>44.0</td>\n",
       "      <td>43000.0</td>\n",
       "      <td>1</td>\n",
       "      <td>1</td>\n",
       "    </tr>\n",
       "    <tr>\n",
       "      <th>1476</th>\n",
       "      <td>1</td>\n",
       "      <td>40.0</td>\n",
       "      <td>34700.0</td>\n",
       "      <td>0</td>\n",
       "      <td>0</td>\n",
       "    </tr>\n",
       "    <tr>\n",
       "      <th>3508</th>\n",
       "      <td>0</td>\n",
       "      <td>43.0</td>\n",
       "      <td>46000.0</td>\n",
       "      <td>3</td>\n",
       "      <td>1</td>\n",
       "    </tr>\n",
       "  </tbody>\n",
       "</table>\n",
       "</div>"
      ],
      "text/plain": [
       "      gender   age   income  family_members  insurance_benefits\n",
       "144        0  25.0  52800.0               2                   0\n",
       "2138       0  20.0  46800.0               2                   0\n",
       "1995       0  45.0  41000.0               0                   1\n",
       "3812       1  33.0  20300.0               2                   0\n",
       "1687       0  32.0  32000.0               2                   0\n",
       "1919       1  22.0  32800.0               0                   0\n",
       "2378       1  39.0  32100.0               1                   0\n",
       "3604       0  44.0  43000.0               1                   1\n",
       "1476       1  40.0  34700.0               0                   0\n",
       "3508       0  43.0  46000.0               3                   1"
      ]
     },
     "execution_count": 5,
     "metadata": {},
     "output_type": "execute_result"
    }
   ],
   "source": [
    "df.sample(10)"
   ]
  },
  {
   "cell_type": "code",
   "execution_count": 6,
   "metadata": {},
   "outputs": [
    {
     "name": "stdout",
     "output_type": "stream",
     "text": [
      "<class 'pandas.core.frame.DataFrame'>\n",
      "RangeIndex: 5000 entries, 0 to 4999\n",
      "Data columns (total 5 columns):\n",
      " #   Column              Non-Null Count  Dtype  \n",
      "---  ------              --------------  -----  \n",
      " 0   gender              5000 non-null   int64  \n",
      " 1   age                 5000 non-null   float64\n",
      " 2   income              5000 non-null   float64\n",
      " 3   family_members      5000 non-null   int64  \n",
      " 4   insurance_benefits  5000 non-null   int64  \n",
      "dtypes: float64(2), int64(3)\n",
      "memory usage: 195.4 KB\n"
     ]
    }
   ],
   "source": [
    "df.info()"
   ]
  },
  {
   "cell_type": "code",
   "execution_count": 7,
   "metadata": {},
   "outputs": [],
   "source": [
    "# puede que queramos cambiar el tipo de edad (de float a int) aunque esto no es crucial\n",
    "df['age'] = df['age'].astype(int)"
   ]
  },
  {
   "cell_type": "code",
   "execution_count": 8,
   "metadata": {},
   "outputs": [
    {
     "name": "stdout",
     "output_type": "stream",
     "text": [
      "<class 'pandas.core.frame.DataFrame'>\n",
      "RangeIndex: 5000 entries, 0 to 4999\n",
      "Data columns (total 5 columns):\n",
      " #   Column              Non-Null Count  Dtype  \n",
      "---  ------              --------------  -----  \n",
      " 0   gender              5000 non-null   int64  \n",
      " 1   age                 5000 non-null   int64  \n",
      " 2   income              5000 non-null   float64\n",
      " 3   family_members      5000 non-null   int64  \n",
      " 4   insurance_benefits  5000 non-null   int64  \n",
      "dtypes: float64(1), int64(4)\n",
      "memory usage: 195.4 KB\n"
     ]
    }
   ],
   "source": [
    "# comprueba que la conversión se haya realizado con éxito\n",
    "df.info()"
   ]
  },
  {
   "cell_type": "code",
   "execution_count": 9,
   "metadata": {},
   "outputs": [
    {
     "data": {
      "text/html": [
       "<div>\n",
       "<style scoped>\n",
       "    .dataframe tbody tr th:only-of-type {\n",
       "        vertical-align: middle;\n",
       "    }\n",
       "\n",
       "    .dataframe tbody tr th {\n",
       "        vertical-align: top;\n",
       "    }\n",
       "\n",
       "    .dataframe thead th {\n",
       "        text-align: right;\n",
       "    }\n",
       "</style>\n",
       "<table border=\"1\" class=\"dataframe\">\n",
       "  <thead>\n",
       "    <tr style=\"text-align: right;\">\n",
       "      <th></th>\n",
       "      <th>gender</th>\n",
       "      <th>age</th>\n",
       "      <th>income</th>\n",
       "      <th>family_members</th>\n",
       "      <th>insurance_benefits</th>\n",
       "    </tr>\n",
       "  </thead>\n",
       "  <tbody>\n",
       "    <tr>\n",
       "      <th>count</th>\n",
       "      <td>5000.000000</td>\n",
       "      <td>5000.000000</td>\n",
       "      <td>5000.000000</td>\n",
       "      <td>5000.000000</td>\n",
       "      <td>5000.000000</td>\n",
       "    </tr>\n",
       "    <tr>\n",
       "      <th>mean</th>\n",
       "      <td>0.499000</td>\n",
       "      <td>30.952800</td>\n",
       "      <td>39916.360000</td>\n",
       "      <td>1.194200</td>\n",
       "      <td>0.148000</td>\n",
       "    </tr>\n",
       "    <tr>\n",
       "      <th>std</th>\n",
       "      <td>0.500049</td>\n",
       "      <td>8.440807</td>\n",
       "      <td>9900.083569</td>\n",
       "      <td>1.091387</td>\n",
       "      <td>0.463183</td>\n",
       "    </tr>\n",
       "    <tr>\n",
       "      <th>min</th>\n",
       "      <td>0.000000</td>\n",
       "      <td>18.000000</td>\n",
       "      <td>5300.000000</td>\n",
       "      <td>0.000000</td>\n",
       "      <td>0.000000</td>\n",
       "    </tr>\n",
       "    <tr>\n",
       "      <th>25%</th>\n",
       "      <td>0.000000</td>\n",
       "      <td>24.000000</td>\n",
       "      <td>33300.000000</td>\n",
       "      <td>0.000000</td>\n",
       "      <td>0.000000</td>\n",
       "    </tr>\n",
       "    <tr>\n",
       "      <th>50%</th>\n",
       "      <td>0.000000</td>\n",
       "      <td>30.000000</td>\n",
       "      <td>40200.000000</td>\n",
       "      <td>1.000000</td>\n",
       "      <td>0.000000</td>\n",
       "    </tr>\n",
       "    <tr>\n",
       "      <th>75%</th>\n",
       "      <td>1.000000</td>\n",
       "      <td>37.000000</td>\n",
       "      <td>46600.000000</td>\n",
       "      <td>2.000000</td>\n",
       "      <td>0.000000</td>\n",
       "    </tr>\n",
       "    <tr>\n",
       "      <th>max</th>\n",
       "      <td>1.000000</td>\n",
       "      <td>65.000000</td>\n",
       "      <td>79000.000000</td>\n",
       "      <td>6.000000</td>\n",
       "      <td>5.000000</td>\n",
       "    </tr>\n",
       "  </tbody>\n",
       "</table>\n",
       "</div>"
      ],
      "text/plain": [
       "            gender          age        income  family_members  \\\n",
       "count  5000.000000  5000.000000   5000.000000     5000.000000   \n",
       "mean      0.499000    30.952800  39916.360000        1.194200   \n",
       "std       0.500049     8.440807   9900.083569        1.091387   \n",
       "min       0.000000    18.000000   5300.000000        0.000000   \n",
       "25%       0.000000    24.000000  33300.000000        0.000000   \n",
       "50%       0.000000    30.000000  40200.000000        1.000000   \n",
       "75%       1.000000    37.000000  46600.000000        2.000000   \n",
       "max       1.000000    65.000000  79000.000000        6.000000   \n",
       "\n",
       "       insurance_benefits  \n",
       "count         5000.000000  \n",
       "mean             0.148000  \n",
       "std              0.463183  \n",
       "min              0.000000  \n",
       "25%              0.000000  \n",
       "50%              0.000000  \n",
       "75%              0.000000  \n",
       "max              5.000000  "
      ]
     },
     "execution_count": 9,
     "metadata": {},
     "output_type": "execute_result"
    }
   ],
   "source": [
    "# ahora echa un vistazo a las estadísticas descriptivas de los datos.# ¿Se ve todo bien?\n",
    "df.describe()"
   ]
  },
  {
   "cell_type": "code",
   "execution_count": 10,
   "metadata": {},
   "outputs": [
    {
     "data": {
      "text/plain": [
       "<AxesSubplot:>"
      ]
     },
     "execution_count": 10,
     "metadata": {},
     "output_type": "execute_result"
    },
    {
     "data": {
      "image/png": "[encoded data removed]",
      "text/plain": [
       "<Figure size 640x480 with 1 Axes>"
      ]
     },
     "metadata": {},
     "output_type": "display_data"
    }
   ],
   "source": [
    "#Veamos la distribución\n",
    "sns.boxplot(data = df)"
   ]
  },
  {
   "cell_type": "code",
   "execution_count": 11,
   "metadata": {},
   "outputs": [
    {
     "data": {
      "text/plain": [
       "array([[<AxesSubplot:title={'center':'gender'}>,\n",
       "        <AxesSubplot:title={'center':'age'}>],\n",
       "       [<AxesSubplot:title={'center':'income'}>,\n",
       "        <AxesSubplot:title={'center':'family_members'}>],\n",
       "       [<AxesSubplot:title={'center':'insurance_benefits'}>,\n",
       "        <AxesSubplot:>]], dtype=object)"
      ]
     },
     "execution_count": 11,
     "metadata": {},
     "output_type": "execute_result"
    },
    {
     "data": {
      "image/png": "[encoded data removed]",
      "text/plain": [
       "<Figure size 640x480 with 6 Axes>"
      ]
     },
     "metadata": {},
     "output_type": "display_data"
    }
   ],
   "source": [
    "df.hist()"
   ]
  },
  {
   "cell_type": "markdown",
   "metadata": {},
   "source": [
    "## Análisis exploratorio de datos"
   ]
  },
  {
   "cell_type": "markdown",
   "metadata": {},
   "source": [
    "Vamos a comprobar rápidamente si existen determinados grupos de clientes observando el gráfico de pares."
   ]
  },
  {
   "cell_type": "code",
   "execution_count": 12,
   "metadata": {},
   "outputs": [
    {
     "data": {
      "image/png": "[encoded data removed]",
      "text/plain": [
       "<Figure size 1200x1200 with 30 Axes>"
      ]
     },
     "metadata": {},
     "output_type": "display_data"
    }
   ],
   "source": [
    "g = sns.pairplot(df, kind='hist')\n",
    "g.fig.set_size_inches(12, 12)"
   ]
  },
  {
   "cell_type": "markdown",
   "metadata": {},
   "source": [
    "De acuerdo, es un poco complicado detectar grupos obvios (clústeres) ya que es difícil combinar diversas variables simultáneamente (para analizar distribuciones multivariadas). Ahí es donde LA y ML pueden ser bastante útiles."
   ]
  },
  {
   "cell_type": "markdown",
   "metadata": {},
   "source": [
    "# Tarea 1. Clientes similares"
   ]
  },
  {
   "cell_type": "markdown",
   "metadata": {},
   "source": [
    "En el lenguaje de ML, es necesario desarrollar un procedimiento que devuelva los k vecinos más cercanos (objetos) para un objeto dado basándose en la distancia entre los objetos.\n",
    "Es posible que quieras revisar las siguientes lecciones (capítulo -> lección)- Distancia entre vectores -> Distancia euclidiana\n",
    "- Distancia entre vectores -> Distancia Manhattan\n",
    "\n",
    "Para resolver la tarea, podemos probar diferentes métricas de distancia."
   ]
  },
  {
   "cell_type": "markdown",
   "metadata": {},
   "source": [
    "Escribe una función que devuelva los k vecinos más cercanos para un $n^{th}$ objeto basándose en una métrica de distancia especificada. A la hora de realizar esta tarea no debe tenerse en cuenta el número de prestaciones de seguro recibidas.\n",
    "Puedes utilizar una implementación ya existente del algoritmo kNN de scikit-learn (consulta [el enlace](https://scikit-learn.org/stable/modules/generated/sklearn.neighbors.NearestNeighbors.html#sklearn.neighbors.NearestNeighbors)) o tu propia implementación.\n",
    "Pruébalo para cuatro combinaciones de dos casos- Escalado\n",
    "  - los datos no están escalados\n",
    "  - los datos se escalan con el escalador [MaxAbsScaler](https://scikit-learn.org/stable/modules/generated/sklearn.preprocessing.MaxAbsScaler.html)\n",
    "- Métricas de distancia\n",
    "  - Euclidiana\n",
    "  - Manhattan\n",
    "\n",
    "Responde a estas preguntas:- ¿El hecho de que los datos no estén escalados afecta al algoritmo kNN? Si es así, ¿cómo se manifiesta?- ¿Qué tan similares son los resultados al utilizar la métrica de distancia Manhattan (independientemente del escalado)?"
   ]
  },
  {
   "cell_type": "code",
   "execution_count": 13,
   "metadata": {},
   "outputs": [],
   "source": [
    "feature_names = ['gender', 'age', 'income', 'family_members']"
   ]
  },
  {
   "cell_type": "code",
   "execution_count": 14,
   "metadata": {},
   "outputs": [],
   "source": [
    "#Hacemos nuestra formula para obtener los vecinos mas cercanos kNeighbors \n",
    "def get_knn(df, n, k, metric):\n",
    "    \n",
    "    \"\"\"\n",
    "    Devuelve los k vecinos más cercanos\n",
    "\n",
    "    :param df: DataFrame de pandas utilizado para encontrar objetos similares dentro del mismo lugar    :param n: número de objetos para los que se buscan los vecinos más cercanos    :param k: número de vecinos más cercanos a devolver\n",
    "    :param métrica: nombre de la métrica de distancia    \"\"\"\n",
    "\n",
    "    nbrs = NearestNeighbors(n_neighbors=k, metric=metric).fit(df[feature_names])\n",
    "    nbrs_distances, nbrs_indices = nbrs.kneighbors([df.iloc[n][feature_names]], k, return_distance=True)\n",
    "    \n",
    "    df_res = pd.concat([\n",
    "        df.iloc[nbrs_indices[0]], \n",
    "        pd.DataFrame(nbrs_distances.T, index=nbrs_indices[0], columns=['distance'])\n",
    "        ], axis=1)\n",
    "    \n",
    "    return df_res"
   ]
  },
  {
   "cell_type": "code",
   "execution_count": 15,
   "metadata": {},
   "outputs": [
    {
     "data": {
      "text/html": [
       "<div>\n",
       "<style scoped>\n",
       "    .dataframe tbody tr th:only-of-type {\n",
       "        vertical-align: middle;\n",
       "    }\n",
       "\n",
       "    .dataframe tbody tr th {\n",
       "        vertical-align: top;\n",
       "    }\n",
       "\n",
       "    .dataframe thead th {\n",
       "        text-align: right;\n",
       "    }\n",
       "</style>\n",
       "<table border=\"1\" class=\"dataframe\">\n",
       "  <thead>\n",
       "    <tr style=\"text-align: right;\">\n",
       "      <th></th>\n",
       "      <th>gender</th>\n",
       "      <th>age</th>\n",
       "      <th>income</th>\n",
       "      <th>family_members</th>\n",
       "      <th>insurance_benefits</th>\n",
       "      <th>distance</th>\n",
       "    </tr>\n",
       "  </thead>\n",
       "  <tbody>\n",
       "    <tr>\n",
       "      <th>2</th>\n",
       "      <td>0</td>\n",
       "      <td>29</td>\n",
       "      <td>21000.0</td>\n",
       "      <td>0</td>\n",
       "      <td>0</td>\n",
       "      <td>0.00000</td>\n",
       "    </tr>\n",
       "    <tr>\n",
       "      <th>4544</th>\n",
       "      <td>1</td>\n",
       "      <td>31</td>\n",
       "      <td>21000.0</td>\n",
       "      <td>1</td>\n",
       "      <td>0</td>\n",
       "      <td>2.44949</td>\n",
       "    </tr>\n",
       "    <tr>\n",
       "      <th>2031</th>\n",
       "      <td>0</td>\n",
       "      <td>30</td>\n",
       "      <td>20900.0</td>\n",
       "      <td>0</td>\n",
       "      <td>0</td>\n",
       "      <td>100.00500</td>\n",
       "    </tr>\n",
       "    <tr>\n",
       "      <th>1741</th>\n",
       "      <td>1</td>\n",
       "      <td>28</td>\n",
       "      <td>21100.0</td>\n",
       "      <td>0</td>\n",
       "      <td>0</td>\n",
       "      <td>100.01000</td>\n",
       "    </tr>\n",
       "  </tbody>\n",
       "</table>\n",
       "</div>"
      ],
      "text/plain": [
       "      gender  age   income  family_members  insurance_benefits   distance\n",
       "2          0   29  21000.0               0                   0    0.00000\n",
       "4544       1   31  21000.0               1                   0    2.44949\n",
       "2031       0   30  20900.0               0                   0  100.00500\n",
       "1741       1   28  21100.0               0                   0  100.01000"
      ]
     },
     "execution_count": 15,
     "metadata": {},
     "output_type": "execute_result"
    }
   ],
   "source": [
    "#Corremos nuestro formula para metricas euclideanas\n",
    "normal_eucli = get_knn(df, 2, 4 ,'euclidean')\n",
    "normal_eucli"
   ]
  },
  {
   "cell_type": "code",
   "execution_count": 16,
   "metadata": {},
   "outputs": [
    {
     "data": {
      "text/html": [
       "<div>\n",
       "<style scoped>\n",
       "    .dataframe tbody tr th:only-of-type {\n",
       "        vertical-align: middle;\n",
       "    }\n",
       "\n",
       "    .dataframe tbody tr th {\n",
       "        vertical-align: top;\n",
       "    }\n",
       "\n",
       "    .dataframe thead th {\n",
       "        text-align: right;\n",
       "    }\n",
       "</style>\n",
       "<table border=\"1\" class=\"dataframe\">\n",
       "  <thead>\n",
       "    <tr style=\"text-align: right;\">\n",
       "      <th></th>\n",
       "      <th>gender</th>\n",
       "      <th>age</th>\n",
       "      <th>income</th>\n",
       "      <th>family_members</th>\n",
       "      <th>insurance_benefits</th>\n",
       "      <th>distance</th>\n",
       "    </tr>\n",
       "  </thead>\n",
       "  <tbody>\n",
       "    <tr>\n",
       "      <th>2</th>\n",
       "      <td>0</td>\n",
       "      <td>29</td>\n",
       "      <td>21000.0</td>\n",
       "      <td>0</td>\n",
       "      <td>0</td>\n",
       "      <td>0.0</td>\n",
       "    </tr>\n",
       "    <tr>\n",
       "      <th>4544</th>\n",
       "      <td>1</td>\n",
       "      <td>31</td>\n",
       "      <td>21000.0</td>\n",
       "      <td>1</td>\n",
       "      <td>0</td>\n",
       "      <td>4.0</td>\n",
       "    </tr>\n",
       "    <tr>\n",
       "      <th>2031</th>\n",
       "      <td>0</td>\n",
       "      <td>30</td>\n",
       "      <td>20900.0</td>\n",
       "      <td>0</td>\n",
       "      <td>0</td>\n",
       "      <td>101.0</td>\n",
       "    </tr>\n",
       "    <tr>\n",
       "      <th>1741</th>\n",
       "      <td>1</td>\n",
       "      <td>28</td>\n",
       "      <td>21100.0</td>\n",
       "      <td>0</td>\n",
       "      <td>0</td>\n",
       "      <td>102.0</td>\n",
       "    </tr>\n",
       "  </tbody>\n",
       "</table>\n",
       "</div>"
      ],
      "text/plain": [
       "      gender  age   income  family_members  insurance_benefits  distance\n",
       "2          0   29  21000.0               0                   0       0.0\n",
       "4544       1   31  21000.0               1                   0       4.0\n",
       "2031       0   30  20900.0               0                   0     101.0\n",
       "1741       1   28  21100.0               0                   0     102.0"
      ]
     },
     "execution_count": 16,
     "metadata": {},
     "output_type": "execute_result"
    }
   ],
   "source": [
    "#Corremos nuestro formula para metricas manhattan\n",
    "normal_manhat = get_knn(df, 2, 4 ,'manhattan')\n",
    "normal_manhat"
   ]
  },
  {
   "cell_type": "markdown",
   "metadata": {},
   "source": [
    "Escalar datos."
   ]
  },
  {
   "cell_type": "code",
   "execution_count": 17,
   "metadata": {},
   "outputs": [],
   "source": [
    "#Guardemos nuestras variables/ columnas a escalar \n",
    "feature_names = ['gender', 'age', 'income', 'family_members']\n",
    "\n",
    "#Guardamos la funcion de transformación\n",
    "transformer_mas = sklearn.preprocessing.MaxAbsScaler().fit(df[feature_names].to_numpy())\n",
    "\n",
    "df_scaled = df.copy()\n",
    "#Transformamos nuestros datos ( Escalamos)\n",
    "df_scaled.loc[:, feature_names] = transformer_mas.transform(df[feature_names].to_numpy())"
   ]
  },
  {
   "cell_type": "code",
   "execution_count": 18,
   "metadata": {},
   "outputs": [
    {
     "data": {
      "text/html": [
       "<div>\n",
       "<style scoped>\n",
       "    .dataframe tbody tr th:only-of-type {\n",
       "        vertical-align: middle;\n",
       "    }\n",
       "\n",
       "    .dataframe tbody tr th {\n",
       "        vertical-align: top;\n",
       "    }\n",
       "\n",
       "    .dataframe thead th {\n",
       "        text-align: right;\n",
       "    }\n",
       "</style>\n",
       "<table border=\"1\" class=\"dataframe\">\n",
       "  <thead>\n",
       "    <tr style=\"text-align: right;\">\n",
       "      <th></th>\n",
       "      <th>gender</th>\n",
       "      <th>age</th>\n",
       "      <th>income</th>\n",
       "      <th>family_members</th>\n",
       "      <th>insurance_benefits</th>\n",
       "    </tr>\n",
       "  </thead>\n",
       "  <tbody>\n",
       "    <tr>\n",
       "      <th>4424</th>\n",
       "      <td>0.0</td>\n",
       "      <td>0.292308</td>\n",
       "      <td>0.596203</td>\n",
       "      <td>0.000000</td>\n",
       "      <td>0</td>\n",
       "    </tr>\n",
       "    <tr>\n",
       "      <th>2544</th>\n",
       "      <td>0.0</td>\n",
       "      <td>0.307692</td>\n",
       "      <td>0.570886</td>\n",
       "      <td>0.000000</td>\n",
       "      <td>0</td>\n",
       "    </tr>\n",
       "    <tr>\n",
       "      <th>1490</th>\n",
       "      <td>1.0</td>\n",
       "      <td>0.523077</td>\n",
       "      <td>0.682278</td>\n",
       "      <td>0.500000</td>\n",
       "      <td>0</td>\n",
       "    </tr>\n",
       "    <tr>\n",
       "      <th>2503</th>\n",
       "      <td>0.0</td>\n",
       "      <td>0.338462</td>\n",
       "      <td>0.441772</td>\n",
       "      <td>0.000000</td>\n",
       "      <td>0</td>\n",
       "    </tr>\n",
       "    <tr>\n",
       "      <th>4716</th>\n",
       "      <td>1.0</td>\n",
       "      <td>0.446154</td>\n",
       "      <td>0.560759</td>\n",
       "      <td>0.166667</td>\n",
       "      <td>0</td>\n",
       "    </tr>\n",
       "  </tbody>\n",
       "</table>\n",
       "</div>"
      ],
      "text/plain": [
       "      gender       age    income  family_members  insurance_benefits\n",
       "4424     0.0  0.292308  0.596203        0.000000                   0\n",
       "2544     0.0  0.307692  0.570886        0.000000                   0\n",
       "1490     1.0  0.523077  0.682278        0.500000                   0\n",
       "2503     0.0  0.338462  0.441772        0.000000                   0\n",
       "4716     1.0  0.446154  0.560759        0.166667                   0"
      ]
     },
     "execution_count": 18,
     "metadata": {},
     "output_type": "execute_result"
    }
   ],
   "source": [
    "df_scaled.sample(5)"
   ]
  },
  {
   "cell_type": "markdown",
   "metadata": {},
   "source": [
    "Ahora, vamos a obtener registros similares para uno determinado, para cada combinación"
   ]
  },
  {
   "cell_type": "code",
   "execution_count": 19,
   "metadata": {},
   "outputs": [
    {
     "data": {
      "text/html": [
       "<div>\n",
       "<style scoped>\n",
       "    .dataframe tbody tr th:only-of-type {\n",
       "        vertical-align: middle;\n",
       "    }\n",
       "\n",
       "    .dataframe tbody tr th {\n",
       "        vertical-align: top;\n",
       "    }\n",
       "\n",
       "    .dataframe thead th {\n",
       "        text-align: right;\n",
       "    }\n",
       "</style>\n",
       "<table border=\"1\" class=\"dataframe\">\n",
       "  <thead>\n",
       "    <tr style=\"text-align: right;\">\n",
       "      <th></th>\n",
       "      <th>gender</th>\n",
       "      <th>age</th>\n",
       "      <th>income</th>\n",
       "      <th>family_members</th>\n",
       "      <th>insurance_benefits</th>\n",
       "      <th>distance</th>\n",
       "    </tr>\n",
       "  </thead>\n",
       "  <tbody>\n",
       "    <tr>\n",
       "      <th>2</th>\n",
       "      <td>0</td>\n",
       "      <td>29</td>\n",
       "      <td>21000.0</td>\n",
       "      <td>0</td>\n",
       "      <td>0</td>\n",
       "      <td>0.00000</td>\n",
       "    </tr>\n",
       "    <tr>\n",
       "      <th>4544</th>\n",
       "      <td>1</td>\n",
       "      <td>31</td>\n",
       "      <td>21000.0</td>\n",
       "      <td>1</td>\n",
       "      <td>0</td>\n",
       "      <td>2.44949</td>\n",
       "    </tr>\n",
       "    <tr>\n",
       "      <th>2031</th>\n",
       "      <td>0</td>\n",
       "      <td>30</td>\n",
       "      <td>20900.0</td>\n",
       "      <td>0</td>\n",
       "      <td>0</td>\n",
       "      <td>100.00500</td>\n",
       "    </tr>\n",
       "    <tr>\n",
       "      <th>1741</th>\n",
       "      <td>1</td>\n",
       "      <td>28</td>\n",
       "      <td>21100.0</td>\n",
       "      <td>0</td>\n",
       "      <td>0</td>\n",
       "      <td>100.01000</td>\n",
       "    </tr>\n",
       "  </tbody>\n",
       "</table>\n",
       "</div>"
      ],
      "text/plain": [
       "      gender  age   income  family_members  insurance_benefits   distance\n",
       "2          0   29  21000.0               0                   0    0.00000\n",
       "4544       1   31  21000.0               1                   0    2.44949\n",
       "2031       0   30  20900.0               0                   0  100.00500\n",
       "1741       1   28  21100.0               0                   0  100.01000"
      ]
     },
     "execution_count": 19,
     "metadata": {},
     "output_type": "execute_result"
    }
   ],
   "source": [
    "#Corremos nuestra variable ahora para los datos escalados tanto para euclidean como para manhattan\n",
    "stand_eucli = get_knn(df, 2, 4 ,'euclidean')\n",
    "stand_eucli"
   ]
  },
  {
   "cell_type": "code",
   "execution_count": 20,
   "metadata": {},
   "outputs": [
    {
     "data": {
      "text/html": [
       "<div>\n",
       "<style scoped>\n",
       "    .dataframe tbody tr th:only-of-type {\n",
       "        vertical-align: middle;\n",
       "    }\n",
       "\n",
       "    .dataframe tbody tr th {\n",
       "        vertical-align: top;\n",
       "    }\n",
       "\n",
       "    .dataframe thead th {\n",
       "        text-align: right;\n",
       "    }\n",
       "</style>\n",
       "<table border=\"1\" class=\"dataframe\">\n",
       "  <thead>\n",
       "    <tr style=\"text-align: right;\">\n",
       "      <th></th>\n",
       "      <th>gender</th>\n",
       "      <th>age</th>\n",
       "      <th>income</th>\n",
       "      <th>family_members</th>\n",
       "      <th>insurance_benefits</th>\n",
       "      <th>distance</th>\n",
       "    </tr>\n",
       "  </thead>\n",
       "  <tbody>\n",
       "    <tr>\n",
       "      <th>2</th>\n",
       "      <td>0</td>\n",
       "      <td>29</td>\n",
       "      <td>21000.0</td>\n",
       "      <td>0</td>\n",
       "      <td>0</td>\n",
       "      <td>0.0</td>\n",
       "    </tr>\n",
       "    <tr>\n",
       "      <th>4544</th>\n",
       "      <td>1</td>\n",
       "      <td>31</td>\n",
       "      <td>21000.0</td>\n",
       "      <td>1</td>\n",
       "      <td>0</td>\n",
       "      <td>4.0</td>\n",
       "    </tr>\n",
       "    <tr>\n",
       "      <th>2031</th>\n",
       "      <td>0</td>\n",
       "      <td>30</td>\n",
       "      <td>20900.0</td>\n",
       "      <td>0</td>\n",
       "      <td>0</td>\n",
       "      <td>101.0</td>\n",
       "    </tr>\n",
       "    <tr>\n",
       "      <th>1741</th>\n",
       "      <td>1</td>\n",
       "      <td>28</td>\n",
       "      <td>21100.0</td>\n",
       "      <td>0</td>\n",
       "      <td>0</td>\n",
       "      <td>102.0</td>\n",
       "    </tr>\n",
       "  </tbody>\n",
       "</table>\n",
       "</div>"
      ],
      "text/plain": [
       "      gender  age   income  family_members  insurance_benefits  distance\n",
       "2          0   29  21000.0               0                   0       0.0\n",
       "4544       1   31  21000.0               1                   0       4.0\n",
       "2031       0   30  20900.0               0                   0     101.0\n",
       "1741       1   28  21100.0               0                   0     102.0"
      ]
     },
     "execution_count": 20,
     "metadata": {},
     "output_type": "execute_result"
    }
   ],
   "source": [
    "stand_manhat = get_knn(df, 2, 4 ,'manhattan')\n",
    "stand_manhat"
   ]
  },
  {
   "cell_type": "code",
   "execution_count": null,
   "metadata": {},
   "outputs": [],
   "source": []
  },
  {
   "cell_type": "markdown",
   "metadata": {},
   "source": [
    "Respuestas a las preguntas"
   ]
  },
  {
   "cell_type": "markdown",
   "metadata": {},
   "source": [
    "**¿El hecho de que los datos no estén escalados afecta al algoritmo kNN? Si es así, ¿cómo se manifiesta?** \n",
    "\n",
    "No, no observamos ninún cambio en los resultados "
   ]
  },
  {
   "cell_type": "markdown",
   "metadata": {},
   "source": [
    "**¿Qué tan similares son los resultados al utilizar la métrica de distancia Manhattan (independientemente del escalado)?** \n",
    "\n",
    "Son muy cercanos los resultados. "
   ]
  },
  {
   "cell_type": "markdown",
   "metadata": {},
   "source": [
    "# Tarea 2. ¿Es probable que el cliente reciba una prestación del seguro?"
   ]
  },
  {
   "cell_type": "markdown",
   "metadata": {},
   "source": [
    "En términos de machine learning podemos considerarlo como una tarea de clasificación binaria."
   ]
  },
  {
   "cell_type": "markdown",
   "metadata": {},
   "source": [
    "Con el valor de `insurance_benefits` superior a cero como objetivo, evalúa si el enfoque de clasificación kNN puede funcionar mejor que el modelo dummy.\n",
    "Instrucciones:\n",
    "- Construye un clasificador basado en KNN y mide su calidad con la métrica F1 para k=1...10 tanto para los datos originales como para los escalados. Sería interesante observar cómo k puede influir en la métrica de evaluación y si el escalado de los datos provoca alguna diferencia. Puedes utilizar una implementación ya existente del algoritmo de clasificación kNN de scikit-learn (consulta [el enlace](https://scikit-learn.org/stable/modules/generated/sklearn.neighbors.KNeighborsClassifier.html)) o tu propia implementación.- \n",
    "\n",
    "- Construye un modelo dummy que, en este caso, es simplemente un modelo aleatorio. Debería devolver \"1\" con cierta probabilidad. Probemos el modelo con cuatro valores de probabilidad: 0, la probabilidad de pagar cualquier prestación del seguro, 0.5, 1.\n",
    "La probabilidad de pagar cualquier prestación del seguro puede definirse como\n",
    "$$\n",
    "P\\{\\text{prestación de seguro recibida}\\}=\\frac{\\text{número de clientes que han recibido alguna prestación de seguro}}{\\text{número total de clientes}}.\n",
    "$$\n",
    "\n",
    "Divide todos los datos correspondientes a las etapas de entrenamiento/prueba respetando la proporción 70:30."
   ]
  },
  {
   "cell_type": "code",
   "execution_count": 21,
   "metadata": {},
   "outputs": [
    {
     "data": {
      "text/html": [
       "<div>\n",
       "<style scoped>\n",
       "    .dataframe tbody tr th:only-of-type {\n",
       "        vertical-align: middle;\n",
       "    }\n",
       "\n",
       "    .dataframe tbody tr th {\n",
       "        vertical-align: top;\n",
       "    }\n",
       "\n",
       "    .dataframe thead th {\n",
       "        text-align: right;\n",
       "    }\n",
       "</style>\n",
       "<table border=\"1\" class=\"dataframe\">\n",
       "  <thead>\n",
       "    <tr style=\"text-align: right;\">\n",
       "      <th></th>\n",
       "      <th>gender</th>\n",
       "      <th>age</th>\n",
       "      <th>income</th>\n",
       "      <th>family_members</th>\n",
       "      <th>insurance_benefits</th>\n",
       "      <th>insurance_benefits_received</th>\n",
       "    </tr>\n",
       "  </thead>\n",
       "  <tbody>\n",
       "    <tr>\n",
       "      <th>0</th>\n",
       "      <td>1</td>\n",
       "      <td>41</td>\n",
       "      <td>49600.0</td>\n",
       "      <td>1</td>\n",
       "      <td>0</td>\n",
       "      <td>0</td>\n",
       "    </tr>\n",
       "    <tr>\n",
       "      <th>1</th>\n",
       "      <td>0</td>\n",
       "      <td>46</td>\n",
       "      <td>38000.0</td>\n",
       "      <td>1</td>\n",
       "      <td>1</td>\n",
       "      <td>1</td>\n",
       "    </tr>\n",
       "    <tr>\n",
       "      <th>2</th>\n",
       "      <td>0</td>\n",
       "      <td>29</td>\n",
       "      <td>21000.0</td>\n",
       "      <td>0</td>\n",
       "      <td>0</td>\n",
       "      <td>0</td>\n",
       "    </tr>\n",
       "    <tr>\n",
       "      <th>3</th>\n",
       "      <td>0</td>\n",
       "      <td>21</td>\n",
       "      <td>41700.0</td>\n",
       "      <td>2</td>\n",
       "      <td>0</td>\n",
       "      <td>0</td>\n",
       "    </tr>\n",
       "    <tr>\n",
       "      <th>4</th>\n",
       "      <td>1</td>\n",
       "      <td>28</td>\n",
       "      <td>26100.0</td>\n",
       "      <td>0</td>\n",
       "      <td>0</td>\n",
       "      <td>0</td>\n",
       "    </tr>\n",
       "    <tr>\n",
       "      <th>...</th>\n",
       "      <td>...</td>\n",
       "      <td>...</td>\n",
       "      <td>...</td>\n",
       "      <td>...</td>\n",
       "      <td>...</td>\n",
       "      <td>...</td>\n",
       "    </tr>\n",
       "    <tr>\n",
       "      <th>4995</th>\n",
       "      <td>0</td>\n",
       "      <td>28</td>\n",
       "      <td>35700.0</td>\n",
       "      <td>2</td>\n",
       "      <td>0</td>\n",
       "      <td>0</td>\n",
       "    </tr>\n",
       "    <tr>\n",
       "      <th>4996</th>\n",
       "      <td>0</td>\n",
       "      <td>34</td>\n",
       "      <td>52400.0</td>\n",
       "      <td>1</td>\n",
       "      <td>0</td>\n",
       "      <td>0</td>\n",
       "    </tr>\n",
       "    <tr>\n",
       "      <th>4997</th>\n",
       "      <td>0</td>\n",
       "      <td>20</td>\n",
       "      <td>33900.0</td>\n",
       "      <td>2</td>\n",
       "      <td>0</td>\n",
       "      <td>0</td>\n",
       "    </tr>\n",
       "    <tr>\n",
       "      <th>4998</th>\n",
       "      <td>1</td>\n",
       "      <td>22</td>\n",
       "      <td>32700.0</td>\n",
       "      <td>3</td>\n",
       "      <td>0</td>\n",
       "      <td>0</td>\n",
       "    </tr>\n",
       "    <tr>\n",
       "      <th>4999</th>\n",
       "      <td>1</td>\n",
       "      <td>28</td>\n",
       "      <td>40600.0</td>\n",
       "      <td>1</td>\n",
       "      <td>0</td>\n",
       "      <td>0</td>\n",
       "    </tr>\n",
       "  </tbody>\n",
       "</table>\n",
       "<p>5000 rows × 6 columns</p>\n",
       "</div>"
      ],
      "text/plain": [
       "      gender  age   income  family_members  insurance_benefits  \\\n",
       "0          1   41  49600.0               1                   0   \n",
       "1          0   46  38000.0               1                   1   \n",
       "2          0   29  21000.0               0                   0   \n",
       "3          0   21  41700.0               2                   0   \n",
       "4          1   28  26100.0               0                   0   \n",
       "...      ...  ...      ...             ...                 ...   \n",
       "4995       0   28  35700.0               2                   0   \n",
       "4996       0   34  52400.0               1                   0   \n",
       "4997       0   20  33900.0               2                   0   \n",
       "4998       1   22  32700.0               3                   0   \n",
       "4999       1   28  40600.0               1                   0   \n",
       "\n",
       "      insurance_benefits_received  \n",
       "0                               0  \n",
       "1                               1  \n",
       "2                               0  \n",
       "3                               0  \n",
       "4                               0  \n",
       "...                           ...  \n",
       "4995                            0  \n",
       "4996                            0  \n",
       "4997                            0  \n",
       "4998                            0  \n",
       "4999                            0  \n",
       "\n",
       "[5000 rows x 6 columns]"
      ]
     },
     "execution_count": 21,
     "metadata": {},
     "output_type": "execute_result"
    }
   ],
   "source": [
    "# сalcula el objetivo\n",
    "df['insurance_benefits_received'] = (df['insurance_benefits']>0)*1\n",
    "df"
   ]
  },
  {
   "cell_type": "code",
   "execution_count": 22,
   "metadata": {},
   "outputs": [
    {
     "data": {
      "text/plain": [
       "0    4436\n",
       "1     564\n",
       "Name: insurance_benefits_received, dtype: int64"
      ]
     },
     "execution_count": 22,
     "metadata": {},
     "output_type": "execute_result"
    }
   ],
   "source": [
    "# comprueba el desequilibrio de clases con value_counts()\n",
    "df['insurance_benefits_received'].value_counts()"
   ]
  },
  {
   "cell_type": "code",
   "execution_count": 23,
   "metadata": {},
   "outputs": [],
   "source": [
    "#Creamos nuestra formula que  separa los targets y features, entrena, prueba y valida (predice)\n",
    "def knn_class(df, metric):\n",
    "    #Separamos nuestros target y features\n",
    "    features = df.drop(['insurance_benefits_received','insurance_benefits'], axis=1)\n",
    "    target = df['insurance_benefits_received']\n",
    "    #Creamos nuestros dataset de entrenamiento y validación\n",
    "    features_train, features_valid,target_train,target_valid = train_test_split(features, target, random_state=123 , test_size=0.25)\n",
    "\n",
    "    for k in range(1,11):\n",
    "        \n",
    "        nbrs = KNeighborsClassifier(n_neighbors=k, metric=metric)\n",
    "        nbrs.fit(features_train,target_train)\n",
    "        l_pred = nbrs.predict(features_valid)\n",
    "        f1_score = sklearn.metrics.f1_score(target_valid,l_pred)\n",
    "    #imprimimos nuestro F1 score para evualuar\n",
    "        print('Valor f1:',f1_score)"
   ]
  },
  {
   "cell_type": "code",
   "execution_count": 24,
   "metadata": {},
   "outputs": [
    {
     "name": "stdout",
     "output_type": "stream",
     "text": [
      "DF ORIGINAL, DISTANCIA EUCLIDIANA:\n",
      "Valor f1: 0.7413127413127413\n",
      "Valor f1: 0.45833333333333337\n",
      "Valor f1: 0.4752475247524752\n",
      "Valor f1: 0.23312883435582823\n",
      "Valor f1: 0.27380952380952384\n",
      "Valor f1: 0.16774193548387095\n",
      "Valor f1: 0.16774193548387095\n",
      "Valor f1: 0.06849315068493152\n",
      "Valor f1: 0.08163265306122448\n",
      "Valor f1: 0.04166666666666667\n"
     ]
    }
   ],
   "source": [
    "print('DF ORIGINAL, DISTANCIA EUCLIDIANA:')\n",
    "#Corremos nuestra formula y vemos nuestro f1:score para los valores cercanos a predecir\n",
    "knn_class(df, 'euclidean')"
   ]
  },
  {
   "cell_type": "code",
   "execution_count": 25,
   "metadata": {},
   "outputs": [
    {
     "data": {
      "text/html": [
       "<div>\n",
       "<style scoped>\n",
       "    .dataframe tbody tr th:only-of-type {\n",
       "        vertical-align: middle;\n",
       "    }\n",
       "\n",
       "    .dataframe tbody tr th {\n",
       "        vertical-align: top;\n",
       "    }\n",
       "\n",
       "    .dataframe thead th {\n",
       "        text-align: right;\n",
       "    }\n",
       "</style>\n",
       "<table border=\"1\" class=\"dataframe\">\n",
       "  <thead>\n",
       "    <tr style=\"text-align: right;\">\n",
       "      <th></th>\n",
       "      <th>gender</th>\n",
       "      <th>age</th>\n",
       "      <th>income</th>\n",
       "      <th>family_members</th>\n",
       "      <th>insurance_benefits</th>\n",
       "      <th>insurance_benefits_received</th>\n",
       "    </tr>\n",
       "  </thead>\n",
       "  <tbody>\n",
       "    <tr>\n",
       "      <th>0</th>\n",
       "      <td>1.0</td>\n",
       "      <td>0.630769</td>\n",
       "      <td>0.627848</td>\n",
       "      <td>0.166667</td>\n",
       "      <td>0</td>\n",
       "      <td>0</td>\n",
       "    </tr>\n",
       "    <tr>\n",
       "      <th>1</th>\n",
       "      <td>0.0</td>\n",
       "      <td>0.707692</td>\n",
       "      <td>0.481013</td>\n",
       "      <td>0.166667</td>\n",
       "      <td>1</td>\n",
       "      <td>1</td>\n",
       "    </tr>\n",
       "    <tr>\n",
       "      <th>2</th>\n",
       "      <td>0.0</td>\n",
       "      <td>0.446154</td>\n",
       "      <td>0.265823</td>\n",
       "      <td>0.000000</td>\n",
       "      <td>0</td>\n",
       "      <td>0</td>\n",
       "    </tr>\n",
       "    <tr>\n",
       "      <th>3</th>\n",
       "      <td>0.0</td>\n",
       "      <td>0.323077</td>\n",
       "      <td>0.527848</td>\n",
       "      <td>0.333333</td>\n",
       "      <td>0</td>\n",
       "      <td>0</td>\n",
       "    </tr>\n",
       "    <tr>\n",
       "      <th>4</th>\n",
       "      <td>1.0</td>\n",
       "      <td>0.430769</td>\n",
       "      <td>0.330380</td>\n",
       "      <td>0.000000</td>\n",
       "      <td>0</td>\n",
       "      <td>0</td>\n",
       "    </tr>\n",
       "    <tr>\n",
       "      <th>...</th>\n",
       "      <td>...</td>\n",
       "      <td>...</td>\n",
       "      <td>...</td>\n",
       "      <td>...</td>\n",
       "      <td>...</td>\n",
       "      <td>...</td>\n",
       "    </tr>\n",
       "    <tr>\n",
       "      <th>4995</th>\n",
       "      <td>0.0</td>\n",
       "      <td>0.430769</td>\n",
       "      <td>0.451899</td>\n",
       "      <td>0.333333</td>\n",
       "      <td>0</td>\n",
       "      <td>0</td>\n",
       "    </tr>\n",
       "    <tr>\n",
       "      <th>4996</th>\n",
       "      <td>0.0</td>\n",
       "      <td>0.523077</td>\n",
       "      <td>0.663291</td>\n",
       "      <td>0.166667</td>\n",
       "      <td>0</td>\n",
       "      <td>0</td>\n",
       "    </tr>\n",
       "    <tr>\n",
       "      <th>4997</th>\n",
       "      <td>0.0</td>\n",
       "      <td>0.307692</td>\n",
       "      <td>0.429114</td>\n",
       "      <td>0.333333</td>\n",
       "      <td>0</td>\n",
       "      <td>0</td>\n",
       "    </tr>\n",
       "    <tr>\n",
       "      <th>4998</th>\n",
       "      <td>1.0</td>\n",
       "      <td>0.338462</td>\n",
       "      <td>0.413924</td>\n",
       "      <td>0.500000</td>\n",
       "      <td>0</td>\n",
       "      <td>0</td>\n",
       "    </tr>\n",
       "    <tr>\n",
       "      <th>4999</th>\n",
       "      <td>1.0</td>\n",
       "      <td>0.430769</td>\n",
       "      <td>0.513924</td>\n",
       "      <td>0.166667</td>\n",
       "      <td>0</td>\n",
       "      <td>0</td>\n",
       "    </tr>\n",
       "  </tbody>\n",
       "</table>\n",
       "<p>5000 rows × 6 columns</p>\n",
       "</div>"
      ],
      "text/plain": [
       "      gender       age    income  family_members  insurance_benefits  \\\n",
       "0        1.0  0.630769  0.627848        0.166667                   0   \n",
       "1        0.0  0.707692  0.481013        0.166667                   1   \n",
       "2        0.0  0.446154  0.265823        0.000000                   0   \n",
       "3        0.0  0.323077  0.527848        0.333333                   0   \n",
       "4        1.0  0.430769  0.330380        0.000000                   0   \n",
       "...      ...       ...       ...             ...                 ...   \n",
       "4995     0.0  0.430769  0.451899        0.333333                   0   \n",
       "4996     0.0  0.523077  0.663291        0.166667                   0   \n",
       "4997     0.0  0.307692  0.429114        0.333333                   0   \n",
       "4998     1.0  0.338462  0.413924        0.500000                   0   \n",
       "4999     1.0  0.430769  0.513924        0.166667                   0   \n",
       "\n",
       "      insurance_benefits_received  \n",
       "0                               0  \n",
       "1                               1  \n",
       "2                               0  \n",
       "3                               0  \n",
       "4                               0  \n",
       "...                           ...  \n",
       "4995                            0  \n",
       "4996                            0  \n",
       "4997                            0  \n",
       "4998                            0  \n",
       "4999                            0  \n",
       "\n",
       "[5000 rows x 6 columns]"
      ]
     },
     "execution_count": 25,
     "metadata": {},
     "output_type": "execute_result"
    }
   ],
   "source": [
    "#Agremos la columna faltante a los datos escalados \n",
    "df_scaled['insurance_benefits_received'] = (df_scaled['insurance_benefits']>0)*1\n",
    "df_scaled"
   ]
  },
  {
   "cell_type": "code",
   "execution_count": 26,
   "metadata": {},
   "outputs": [
    {
     "name": "stdout",
     "output_type": "stream",
     "text": [
      "DF ESCALADO, DISTANCIA Euclidian:\n",
      "Valor f1: 0.9534050179211468\n",
      "Valor f1: 0.928301886792453\n",
      "Valor f1: 0.9407407407407407\n",
      "Valor f1: 0.9153846153846154\n",
      "Valor f1: 0.9104477611940299\n",
      "Valor f1: 0.9111969111969112\n",
      "Valor f1: 0.9368029739776951\n",
      "Valor f1: 0.9398496240601504\n",
      "Valor f1: 0.9481481481481482\n",
      "Valor f1: 0.9277566539923954\n"
     ]
    }
   ],
   "source": [
    "print('DF ESCALADO, DISTANCIA Euclidian:')\n",
    "#Corremos nuestra formula para los datos escalados \n",
    "knn_class(df_scaled, 'euclidean')"
   ]
  },
  {
   "cell_type": "code",
   "execution_count": 27,
   "metadata": {},
   "outputs": [],
   "source": [
    "#Funcion que evalua a nuestro modelo\n",
    "def eval_classifier(y_true, y_pred):\n",
    "    \n",
    "    f1_score = sklearn.metrics.f1_score(y_true, y_pred)\n",
    "    print(f'F1: {f1_score:.2f}')\n",
    "    \n",
    "# si tienes algún problema con la siguiente línea, reinicia el kernel y ejecuta el cuaderno de nuevo    \n",
    "    cm = sklearn.metrics.confusion_matrix(y_true, y_pred, normalize='all')\n",
    "    print('Matriz de confusión')\n",
    "    print(cm)"
   ]
  },
  {
   "cell_type": "code",
   "execution_count": 28,
   "metadata": {},
   "outputs": [],
   "source": [
    "# generar la salida de un modelo aleatorio\n",
    "\n",
    "def rnd_model_predict(P, size, seed=42):\n",
    "\n",
    "    rng = np.random.default_rng(seed=seed)\n",
    "    return rng.binomial(n=1, p=P, size=size)"
   ]
  },
  {
   "cell_type": "code",
   "execution_count": 29,
   "metadata": {},
   "outputs": [
    {
     "name": "stdout",
     "output_type": "stream",
     "text": [
      "La probabilidad: 0.00\n",
      "F1: 0.00\n",
      "Matriz de confusión\n",
      "[[0.8872 0.    ]\n",
      " [0.1128 0.    ]]\n",
      "\n",
      "La probabilidad: 0.11\n",
      "F1: 0.12\n",
      "Matriz de confusión\n",
      "[[0.7914 0.0958]\n",
      " [0.0994 0.0134]]\n",
      "\n",
      "La probabilidad: 0.50\n",
      "F1: 0.20\n",
      "Matriz de confusión\n",
      "[[0.456  0.4312]\n",
      " [0.053  0.0598]]\n",
      "\n",
      "La probabilidad: 1.00\n",
      "F1: 0.20\n",
      "Matriz de confusión\n",
      "[[0.     0.8872]\n",
      " [0.     0.1128]]\n",
      "\n"
     ]
    }
   ],
   "source": [
    "#probamos nuestro modelo con diferentes probabilidades\n",
    "for P in [0, df['insurance_benefits_received'].sum() / len(df), 0.5, 1]:\n",
    "\n",
    "    print(f'La probabilidad: {P:.2f}')\n",
    "    y_pred_rnd = rnd_model_predict(P, df['insurance_benefits'].shape)\n",
    "        \n",
    "    eval_classifier(df['insurance_benefits_received'], y_pred_rnd)\n",
    "    \n",
    "    print()"
   ]
  },
  {
   "cell_type": "markdown",
   "metadata": {},
   "source": [
    "# Tarea 3. Regresión (con regresión lineal)"
   ]
  },
  {
   "cell_type": "markdown",
   "metadata": {},
   "source": [
    "Con `insurance_benefits` como objetivo, evalúa cuál sería la RECM de un modelo de regresión lineal."
   ]
  },
  {
   "cell_type": "markdown",
   "metadata": {},
   "source": [
    "Construye tu propia implementación de regresión lineal. Para ello, recuerda cómo está formulada la solución de la tarea de regresión lineal en términos de LA. Comprueba la RECM tanto para los datos originales como para los escalados. ¿Puedes ver alguna diferencia en la RECM con respecto a estos dos casos?\n",
    "\n",
    "Denotemos- $X$: matriz de características; cada fila es un caso, cada columna es una característica, la primera columna está formada por unidades- $y$ — objetivo (un vector)- $\\hat{y}$ — objetivo estimado (un vector)- $w$ — vector de pesos\n",
    "La tarea de regresión lineal en el lenguaje de las matrices puede formularse así:\n",
    "$$\n",
    "y = Xw\n",
    "$$\n",
    "\n",
    "El objetivo de entrenamiento es entonces encontrar esa $w$ w que minimice la distancia L2 (ECM) entre $Xw$ y $y$:\n",
    "\n",
    "$$\n",
    "\\min_w d_2(Xw, y) \\quad \\text{or} \\quad \\min_w \\text{MSE}(Xw, y)\n",
    "$$\n",
    "\n",
    "Parece que hay una solución analítica para lo anteriormente expuesto:\n",
    "$$\n",
    "w = (X^T X)^{-1} X^T y\n",
    "$$\n",
    "\n",
    "La fórmula anterior puede servir para encontrar los pesos $w$ y estos últimos pueden utilizarse para calcular los valores predichos\n",
    "$$\n",
    "\\hat{y} = X_{val}w\n",
    "$$"
   ]
  },
  {
   "cell_type": "markdown",
   "metadata": {},
   "source": [
    "Divide todos los datos correspondientes a las etapas de entrenamiento/prueba respetando la proporción 70:30. Utiliza la métrica RECM para evaluar el modelo."
   ]
  },
  {
   "cell_type": "code",
   "execution_count": 30,
   "metadata": {},
   "outputs": [],
   "source": [
    "#Creamos nuestra clase , que en esta caso es para regresión lineal\n",
    "class MyLinearRegression:\n",
    "    \n",
    "    def __init__(self):\n",
    "        \n",
    "        #Definimos nuestras\n",
    "        self.weights = None\n",
    "        self.w = None \n",
    "        self.w0 = None \n",
    "    \n",
    "    def fit(self, X, y):\n",
    "        #agregamos una constante al entrenamiento, definimos los pesos y las variables w y Wo\n",
    "\n",
    "        X2 = np.append(np.ones([len(X), 1]), X, axis=1)\n",
    "        self.weights = np.linalg.inv(X2.T.dot(X2)).dot(X2.T).dot(y)\n",
    "        self.w = self.weights[1:]\n",
    "        self.w0 = self.weights[0]\n",
    "\n",
    "    def predict(self, X):\n",
    "        #calculamos el producto escalar y sumamos la variable w0\n",
    "\n",
    "        #X2 = \n",
    "        y_pred = X.dot(self.w) + self.w0\n",
    "        \n",
    "        return y_pred"
   ]
  },
  {
   "cell_type": "code",
   "execution_count": 31,
   "metadata": {},
   "outputs": [],
   "source": [
    "#Creamos nuestra variable para evaluar el modelo con RMSE Y R2 score\n",
    "def eval_regressor(y_true, y_pred):\n",
    "    \n",
    "    rmse = math.sqrt(sklearn.metrics.mean_squared_error(y_true, y_pred))\n",
    "    print(f'RMSE: {rmse:.2f}')\n",
    "    \n",
    "    r2_score = math.sqrt(sklearn.metrics.r2_score(y_true, y_pred))\n",
    "    print(f'R2: {r2_score:.2f}')    "
   ]
  },
  {
   "cell_type": "code",
   "execution_count": null,
   "metadata": {},
   "outputs": [],
   "source": []
  },
  {
   "cell_type": "code",
   "execution_count": 32,
   "metadata": {},
   "outputs": [
    {
     "name": "stdout",
     "output_type": "stream",
     "text": [
      "Vector de pesos: [-9.43539012e-01  3.57495491e-02  1.64272726e-02 -2.60743659e-07\n",
      " -1.16902127e-02]\n",
      "RMSE: 0.34\n",
      "R2: 0.66\n"
     ]
    }
   ],
   "source": [
    "#Separamos nuestros features y nuestro objetivo\n",
    "X = df[['age', 'gender', 'income', 'family_members']].to_numpy()\n",
    "y = df['insurance_benefits'].to_numpy()\n",
    "\n",
    "#Creamos el split test\n",
    "X_train, X_test, y_train, y_test = train_test_split(X, y, test_size=0.3, random_state=12345)\n",
    "\n",
    "#Corremos nuestra nueva clase que contiene nuestro modelo \n",
    "lr = MyLinearRegression()\n",
    "\n",
    "#Entrenamos nuestro modelo\n",
    "lr.fit(X_train, y_train)\n",
    "#Queremos ver los pesos, asi que imprimos\n",
    "print('Vector de pesos:', lr.weights)\n",
    "\n",
    "#Obtenemos y guardamos nuestras predicciones \n",
    "y_test_pred = lr.predict(X_test)\n",
    "#Evaluamos nuestras predicciones\n",
    "eval_regressor(y_test, y_test_pred)"
   ]
  },
  {
   "cell_type": "code",
   "execution_count": 33,
   "metadata": {},
   "outputs": [
    {
     "name": "stdout",
     "output_type": "stream",
     "text": [
      "Vector de pesos: [-0.94353901  2.32372069  0.01642727 -0.02059875 -0.07014128]\n",
      "RMSE: 0.34\n",
      "R2: 0.66\n"
     ]
    }
   ],
   "source": [
    "#corremos lo mismo pero para los datos escalados \n",
    "X_scal = df_scaled[['age', 'gender', 'income', 'family_members']].to_numpy()\n",
    "y_scal = df_scaled['insurance_benefits'].to_numpy()\n",
    "\n",
    "X_train_scal, X_test_scal, y_train_scal, y_test_scal = train_test_split(X_scal, y_scal, test_size=0.3, random_state=12345)\n",
    "\n",
    "lr_scal = MyLinearRegression()\n",
    "\n",
    "lr_scal.fit(X_train_scal, y_train_scal)\n",
    "print('Vector de pesos:', lr_scal.weights)\n",
    "\n",
    "y_test_pred_scal = lr_scal.predict(X_test_scal)\n",
    "eval_regressor(y_test_scal, y_test_pred_scal)"
   ]
  },
  {
   "cell_type": "markdown",
   "metadata": {},
   "source": [
    "No observamos diferencias en las métricas de evaluación. Sin embargo, si observamos cambios en los pesos, pero no se traduce en afectaciones al resultado predictivo. "
   ]
  },
  {
   "cell_type": "markdown",
   "metadata": {},
   "source": [
    "# Tarea 4. Ofuscar datos"
   ]
  },
  {
   "cell_type": "markdown",
   "metadata": {},
   "source": [
    "Lo mejor es ofuscar los datos multiplicando las características numéricas (recuerda que se pueden ver como la matriz $X$) por una matriz invertible $P$. \n",
    "\n",
    "$$\n",
    "X' = X \\times P\n",
    "$$\n",
    "\n",
    "Trata de hacerlo y comprueba cómo quedarán los valores de las características después de la transformación. Por cierto, la propiedad de invertibilidad es importante aquí, así que asegúrate de que $P$ sea realmente invertible.\n",
    "\n",
    "Puedes revisar la lección 'Matrices y operaciones matriciales -> Multiplicación de matrices' para recordar la regla de multiplicación de matrices y su implementación con NumPy."
   ]
  },
  {
   "cell_type": "code",
   "execution_count": 34,
   "metadata": {},
   "outputs": [],
   "source": [
    "personal_info_column_list = ['gender', 'age', 'income', 'family_members']\n",
    "df_pn = df[personal_info_column_list]"
   ]
  },
  {
   "cell_type": "code",
   "execution_count": 35,
   "metadata": {},
   "outputs": [
    {
     "data": {
      "text/plain": [
       "array([[1.00e+00, 4.10e+01, 4.96e+04, 1.00e+00],\n",
       "       [0.00e+00, 4.60e+01, 3.80e+04, 1.00e+00],\n",
       "       [0.00e+00, 2.90e+01, 2.10e+04, 0.00e+00],\n",
       "       ...,\n",
       "       [0.00e+00, 2.00e+01, 3.39e+04, 2.00e+00],\n",
       "       [1.00e+00, 2.20e+01, 3.27e+04, 3.00e+00],\n",
       "       [1.00e+00, 2.80e+01, 4.06e+04, 1.00e+00]])"
      ]
     },
     "execution_count": 35,
     "metadata": {},
     "output_type": "execute_result"
    }
   ],
   "source": [
    "#convertimos nuestro df a un array \n",
    "X = df_pn.to_numpy()\n",
    "X"
   ]
  },
  {
   "cell_type": "markdown",
   "metadata": {},
   "source": [
    "Generar una matriz aleatoria $P$."
   ]
  },
  {
   "cell_type": "code",
   "execution_count": 36,
   "metadata": {},
   "outputs": [
    {
     "data": {
      "text/plain": [
       "array([[0.77395605, 0.43887844, 0.85859792, 0.69736803],\n",
       "       [0.09417735, 0.97562235, 0.7611397 , 0.78606431],\n",
       "       [0.12811363, 0.45038594, 0.37079802, 0.92676499],\n",
       "       [0.64386512, 0.82276161, 0.4434142 , 0.22723872]])"
      ]
     },
     "execution_count": 36,
     "metadata": {},
     "output_type": "execute_result"
    }
   ],
   "source": [
    "#Generamos una matríz aleatoria y la mostramos \n",
    "rng = np.random.default_rng(seed=42)\n",
    "P = rng.random(size=(X.shape[1], X.shape[1]))\n",
    "P"
   ]
  },
  {
   "cell_type": "markdown",
   "metadata": {},
   "source": [
    "Comprobar que la matriz P sea invertible"
   ]
  },
  {
   "cell_type": "code",
   "execution_count": 37,
   "metadata": {},
   "outputs": [
    {
     "data": {
      "text/plain": [
       "array([[ 0.41467992, -1.43783972,  0.62798546,  1.14001268],\n",
       "       [-1.06101789,  0.44219337,  0.1329549 ,  1.18425933],\n",
       "       [ 1.42362442,  1.60461607, -2.0553823 , -1.53699695],\n",
       "       [-0.11128575, -0.65813802,  1.74995517, -0.11816316]])"
      ]
     },
     "execution_count": 37,
     "metadata": {},
     "output_type": "execute_result"
    }
   ],
   "source": [
    "#Invertimos la matríz P y la mostramos \n",
    "mat_inv = np.linalg.inv(P)\n",
    "mat_inv"
   ]
  },
  {
   "cell_type": "code",
   "execution_count": 38,
   "metadata": {},
   "outputs": [
    {
     "data": {
      "text/plain": [
       "array([[ 6359.71527314, 22380.40467609, 18424.09074184, 46000.69669016],\n",
       "       [ 4873.29406479, 17160.36702982, 14125.78076133, 35253.45577301],\n",
       "       [ 2693.11742928,  9486.397744  ,  7808.83156024, 19484.86063067],\n",
       "       ...,\n",
       "       [ 4346.2234249 , 15289.24126492, 12586.16264392, 31433.50888552],\n",
       "       [ 4194.09324155, 14751.9910242 , 12144.02930637, 30323.88763426],\n",
       "       [ 5205.46827354, 18314.24814446, 15077.01370762, 37649.59295455]])"
      ]
     },
     "execution_count": 38,
     "metadata": {},
     "output_type": "execute_result"
    }
   ],
   "source": [
    "#Transformamos nuestra matríz y creamos una nueva encriptada\n",
    "X_t = X @ P\n",
    "X_t"
   ]
  },
  {
   "cell_type": "markdown",
   "metadata": {},
   "source": [
    "¿Puedes adivinar la edad o los ingresos de los clientes después de la transformación?\n",
    "\n",
    "No, porque cada elemento es el producto multiplicado de cada valor. "
   ]
  },
  {
   "cell_type": "markdown",
   "metadata": {},
   "source": [
    "¿Puedes recuperar los datos originales de $X'$ si conoces $P$? Intenta comprobarlo a través de los cálculos moviendo $P$ del lado derecho de la fórmula anterior al izquierdo. En este caso las reglas de la multiplicación matricial son realmente útiles\n",
    "\n",
    "No, no se puede porque no tienen el mismo tamaño. "
   ]
  },
  {
   "cell_type": "code",
   "execution_count": 39,
   "metadata": {},
   "outputs": [
    {
     "data": {
      "text/plain": [
       "array([[ 1.00000000e+00,  4.10000000e+01,  4.96000000e+04,\n",
       "         1.00000000e+00],\n",
       "       [-4.47363596e-12,  4.60000000e+01,  3.80000000e+04,\n",
       "         1.00000000e+00],\n",
       "       [-2.51586878e-12,  2.90000000e+01,  2.10000000e+04,\n",
       "         9.52452315e-13],\n",
       "       ...,\n",
       "       [-1.92837871e-12,  2.00000000e+01,  3.39000000e+04,\n",
       "         2.00000000e+00],\n",
       "       [ 1.00000000e+00,  2.20000000e+01,  3.27000000e+04,\n",
       "         3.00000000e+00],\n",
       "       [ 1.00000000e+00,  2.80000000e+01,  4.06000000e+04,\n",
       "         1.00000000e+00]])"
      ]
     },
     "execution_count": 39,
     "metadata": {},
     "output_type": "execute_result"
    }
   ],
   "source": [
    "#intentemos revertir nuestra encriptación  \n",
    "X_o = X_t @ mat_inv\n",
    "X_o"
   ]
  },
  {
   "cell_type": "markdown",
   "metadata": {},
   "source": [
    "Muestra los tres casos para algunos clientes:\n",
    "- Datos originales\n",
    "- El que está transformado\n",
    "- El que está invertido (recuperado)"
   ]
  },
  {
   "cell_type": "code",
   "execution_count": 40,
   "metadata": {},
   "outputs": [
    {
     "name": "stdout",
     "output_type": "stream",
     "text": [
      "Original: [[1.00e+00 4.10e+01 4.96e+04 1.00e+00]\n",
      " [0.00e+00 4.60e+01 3.80e+04 1.00e+00]\n",
      " [0.00e+00 2.90e+01 2.10e+04 0.00e+00]]\n",
      "\n",
      "Transformado: [[ 6359.71527314 22380.40467609 18424.09074184 46000.69669016]\n",
      " [ 4873.29406479 17160.36702982 14125.78076133 35253.45577301]\n",
      " [ 2693.11742928  9486.397744    7808.83156024 19484.86063067]]\n",
      "\n",
      "Invertido: [[ 1.00000000e+00  4.10000000e+01  4.96000000e+04  1.00000000e+00]\n",
      " [-4.47363596e-12  4.60000000e+01  3.80000000e+04  1.00000000e+00]\n",
      " [-2.51586878e-12  2.90000000e+01  2.10000000e+04  9.52452315e-13]]\n"
     ]
    }
   ],
   "source": [
    "print('Original:', X[[0,1,2]])\n",
    "print()\n",
    "print('Transformado:', X_t[[0,1,2]])\n",
    "print()\n",
    "print('Invertido:', X_o[[0,1,2]])"
   ]
  },
  {
   "cell_type": "markdown",
   "metadata": {},
   "source": [
    "Seguramente puedes ver que algunos valores no son exactamente iguales a los de los datos originales. ¿Cuál podría ser la razón de ello?"
   ]
  },
  {
   "cell_type": "markdown",
   "metadata": {},
   "source": [
    "## Prueba de que la ofuscación de datos puede funcionar con regresión lineal"
   ]
  },
  {
   "cell_type": "markdown",
   "metadata": {},
   "source": [
    "En este proyecto la tarea de regresión se ha resuelto con la regresión lineal. Tu siguiente tarea es demostrar _analytically_ que el método de ofuscación no afectará a la regresión lineal en términos de valores predichos, es decir, que sus valores seguirán siendo los mismos. ¿Lo puedes creer? Pues no hace falta que lo creas, ¡tienes que que demostrarlo!"
   ]
  },
  {
   "cell_type": "markdown",
   "metadata": {},
   "source": [
    "Entonces, los datos están ofuscados y ahora tenemos $X \\times P$ en lugar de tener solo $X$. En consecuencia, hay otros pesos $w_P$ como\n",
    "$$\n",
    "w = (X^T X)^{-1} X^T y \\quad \\Rightarrow \\quad w_P = [(XP)^T XP]^{-1} (XP)^T y\n",
    "$$\n",
    "\n",
    "¿Cómo se relacionarían $w$ y $w_P$ si simplificáramos la fórmula de $w_P$ anterior?\n",
    "\n",
    "#### Respuesta \n",
    "\n",
    "El impacto para el modelo debería ser el mismo. Aunque tienen magnitudes diferentes al ser uno multiplicado por la matríz aleatoria P, la formula compensa esto y lo equilibra. "
   ]
  },
  {
   "cell_type": "markdown",
   "metadata": {},
   "source": [
    "¿Cuáles serían los valores predichos con $w_P$? \n",
    "\n",
    "#### Respuesta \n",
    "\n",
    "Serían valores similares, no en cuanto a valor pero si a equivalencia y rango. Deberían darnos resultados que equiparen a los originales. \n",
    "\n",
    "¿Qué significa esto para la calidad de la regresión lineal si esta se mide mediante la RECM?\n",
    "Revisa el Apéndice B Propiedades de las matrices al final del cuaderno. ¡Allí encontrarás fórmulas muy útiles!\n",
    "\n",
    "#### Respuesta \n",
    "\n",
    "Esto significa que el RECM debería ser el mismo o muy similar entre los datos ofuscados y los originales. \n",
    "\n",
    "\n",
    "No es necesario escribir código en esta sección, basta con una explicación analítica."
   ]
  },
  {
   "cell_type": "markdown",
   "metadata": {},
   "source": [
    "**Prueba analítica**"
   ]
  },
  {
   "cell_type": "markdown",
   "metadata": {},
   "source": [
    "La fórmula nos termina quedando de esta manera \n",
    "\n",
    "$$\n",
    "w_P = I P^{-1} X^{-1} y\n",
    "$$"
   ]
  },
  {
   "cell_type": "code",
   "execution_count": null,
   "metadata": {},
   "outputs": [],
   "source": []
  },
  {
   "cell_type": "markdown",
   "metadata": {},
   "source": [
    "## Prueba de regresión lineal con ofuscación de datos"
   ]
  },
  {
   "cell_type": "markdown",
   "metadata": {},
   "source": [
    "Ahora, probemos que la regresión lineal pueda funcionar, en términos computacionales, con la transformación de ofuscación elegida.\n",
    "Construye un procedimiento o una clase que ejecute la regresión lineal opcionalmente con la ofuscación. Puedes usar una implementación de regresión lineal de scikit-learn o tu propia implementación.\n",
    "Ejecuta la regresión lineal para los datos originales y los ofuscados, compara los valores predichos y los valores de las métricas RMSE y $R^2$. ¿Hay alguna diferencia?"
   ]
  },
  {
   "cell_type": "markdown",
   "metadata": {},
   "source": [
    "**Procedimiento**\n",
    "\n",
    "- Crea una matriz cuadrada $P$ de números aleatorios.- Comprueba que sea invertible. Si no lo es, repite el primer paso hasta obtener una matriz invertible.- <¡ tu comentario aquí !>\n",
    "- Utiliza $XP$ como la nueva matriz de características"
   ]
  },
  {
   "cell_type": "code",
   "execution_count": 41,
   "metadata": {},
   "outputs": [
    {
     "data": {
      "text/plain": [
       "array([[0.77395605, 0.43887844, 0.85859792, 0.69736803],\n",
       "       [0.09417735, 0.97562235, 0.7611397 , 0.78606431],\n",
       "       [0.12811363, 0.45038594, 0.37079802, 0.92676499],\n",
       "       [0.64386512, 0.82276161, 0.4434142 , 0.22723872]])"
      ]
     },
     "execution_count": 41,
     "metadata": {},
     "output_type": "execute_result"
    }
   ],
   "source": [
    "# Ya tenemos nuestra matríz aleatoria \n",
    "P"
   ]
  },
  {
   "cell_type": "code",
   "execution_count": 42,
   "metadata": {},
   "outputs": [
    {
     "data": {
      "text/plain": [
       "array([[ 0.41467992, -1.43783972,  0.62798546,  1.14001268],\n",
       "       [-1.06101789,  0.44219337,  0.1329549 ,  1.18425933],\n",
       "       [ 1.42362442,  1.60461607, -2.0553823 , -1.53699695],\n",
       "       [-0.11128575, -0.65813802,  1.74995517, -0.11816316]])"
      ]
     },
     "execution_count": 42,
     "metadata": {},
     "output_type": "execute_result"
    }
   ],
   "source": [
    "#Invertimos nuestra matríz \n",
    "P_inv= np.linalg.inv(P)\n",
    "P_inv"
   ]
  },
  {
   "cell_type": "code",
   "execution_count": 43,
   "metadata": {},
   "outputs": [
    {
     "data": {
      "text/plain": [
       "array([[ 6359.71527314, 22380.40467609, 18424.09074184, 46000.69669016],\n",
       "       [ 4873.29406479, 17160.36702982, 14125.78076133, 35253.45577301],\n",
       "       [ 2693.11742928,  9486.397744  ,  7808.83156024, 19484.86063067],\n",
       "       ...,\n",
       "       [ 4346.2234249 , 15289.24126492, 12586.16264392, 31433.50888552],\n",
       "       [ 4194.09324155, 14751.9910242 , 12144.02930637, 30323.88763426],\n",
       "       [ 5205.46827354, 18314.24814446, 15077.01370762, 37649.59295455]])"
      ]
     },
     "execution_count": 43,
     "metadata": {},
     "output_type": "execute_result"
    }
   ],
   "source": [
    "# X_t es nuestra matriz de caracteristicas \n",
    "X_t"
   ]
  },
  {
   "cell_type": "code",
   "execution_count": 44,
   "metadata": {},
   "outputs": [
    {
     "name": "stdout",
     "output_type": "stream",
     "text": [
      "Vector de pesos: [-0.94353902 -0.05791721 -0.01546567  0.09871889 -0.02397536]\n",
      "RMSE: 0.34\n",
      "R2: 0.66\n"
     ]
    }
   ],
   "source": [
    "#Para el modelo ya teniamos nuestra función de regresion lineal creada, solo la vamos a adaptar\n",
    "#para los datos originales ya tenemos nuestros resultados, solo vamos a probar para nuestros datos encriptados\n",
    "#Vamos a evaluar nuestro modelo \n",
    "y_1 = df['insurance_benefits'].to_numpy()\n",
    "\n",
    "X_train_trans, X_test_trans, y_train_trans, y_test_trans = train_test_split(X_t, y_1, test_size=0.3, random_state=12345)\n",
    "\n",
    "lr_trans = MyLinearRegression()\n",
    "\n",
    "lr_trans.fit(X_train_trans, y_train_trans)\n",
    "print('Vector de pesos:', lr_trans.weights)\n",
    "\n",
    "pred_trans = lr_trans.predict(X_test_trans)\n",
    "eval_regressor(y_test_trans, pred_trans)"
   ]
  },
  {
   "cell_type": "markdown",
   "metadata": {},
   "source": [
    "Observo que mis valores predichos SI son distintos pero mis metricas RMSE Y R2 son iguales. Por lo que no podemos decir que la encriptación altera los resultados o las metricas. "
   ]
  },
  {
   "cell_type": "markdown",
   "metadata": {},
   "source": [
    "# Conclusiones"
   ]
  },
  {
   "cell_type": "markdown",
   "metadata": {},
   "source": [
    "Para el proyecto analizamos la información y no encontramos problemas con la información ni requirio mayor corrección. \n",
    "\n",
    "Para el caso del modelo de kneighbors que realizamos, no encontramos diferencias entre los datos sin escalar y escalados tanto para la metrica ecludiana y manhattan... anque si encontramos una pequeña variacion dependiendo la metrica que se use. Podemos decir que el escalado no tiene mayor impacto en nuestro modelo. \n",
    "\n",
    "Para el modelo de clasificación de vecinos (Kneighbors classifier), aplicado a los datos originales sin escalar y posteriormente a los escalados..encontramos que con los datos escalados encontramos un valor f1 más consistente y elevado (cerca de 1). Por lo que podemos decir que los datos escalados efectivamente mejoran las prediciones de nuestro modelo. \n",
    "\n",
    "En el modelo de regresión lineal que realizamos observamos que las metricas RMSE Y R2 son identicos tanto para los datos sin escalar que escalados, pero si observamos que el vector de pesos no es el mismo para ambos pero no parece afectar el resultado. Por lo que tambien podríamos decir que los datos escalados no presentan una mejora en el modelo. \n",
    "\n",
    "Observamos que la ofuscación de los datos para el modelo de regresión lineal tampoco afecta los resultados de las metricas, pero al igual que con los datos escalados, observamos que los pesos son distintos pero no presentan problemas para el modelo. \n",
    "\n"
   ]
  }
 ],
 "metadata": {
  "ExecuteTimeLog": [
   {
    "duration": 2599,
    "start_time": "2025-04-02T21:48:02.761Z"
   },
   {
    "duration": 2987,
    "start_time": "2025-04-02T21:48:05.364Z"
   },
   {
    "duration": 2296,
    "start_time": "2025-04-02T21:48:11.536Z"
   },
   {
    "duration": 2158,
    "start_time": "2025-04-02T21:48:24.366Z"
   },
   {
    "duration": 2148,
    "start_time": "2025-04-02T21:48:46.609Z"
   },
   {
    "duration": 2086,
    "start_time": "2025-04-02T21:49:45.226Z"
   },
   {
    "duration": 987,
    "start_time": "2025-04-02T21:49:51.803Z"
   },
   {
    "duration": 3,
    "start_time": "2025-04-02T21:49:56.061Z"
   },
   {
    "duration": 12,
    "start_time": "2025-04-02T21:50:08.631Z"
   },
   {
    "duration": 3,
    "start_time": "2025-04-02T21:50:15.641Z"
   },
   {
    "duration": 13,
    "start_time": "2025-04-02T21:50:20.816Z"
   },
   {
    "duration": 9,
    "start_time": "2025-04-02T21:50:25.222Z"
   },
   {
    "duration": 4,
    "start_time": "2025-04-02T21:54:05.083Z"
   },
   {
    "duration": 10,
    "start_time": "2025-04-02T21:54:12.805Z"
   },
   {
    "duration": 17,
    "start_time": "2025-04-02T21:54:47.475Z"
   },
   {
    "duration": 9,
    "start_time": "2025-04-02T21:55:12.536Z"
   },
   {
    "duration": 16,
    "start_time": "2025-04-02T21:55:15.852Z"
   },
   {
    "duration": 17,
    "start_time": "2025-04-02T21:55:35.644Z"
   },
   {
    "duration": 145,
    "start_time": "2025-04-02T21:57:44.164Z"
   },
   {
    "duration": 80,
    "start_time": "2025-04-02T21:58:37.603Z"
   },
   {
    "duration": 72,
    "start_time": "2025-04-02T21:58:48.662Z"
   },
   {
    "duration": 24,
    "start_time": "2025-04-02T21:59:21.891Z"
   },
   {
    "duration": 69,
    "start_time": "2025-04-02T21:59:33.491Z"
   },
   {
    "duration": 609,
    "start_time": "2025-04-02T22:02:51.303Z"
   },
   {
    "duration": 737,
    "start_time": "2025-04-02T22:03:44.658Z"
   },
   {
    "duration": 3,
    "start_time": "2025-04-02T22:04:27.323Z"
   },
   {
    "duration": 624,
    "start_time": "2025-04-02T22:04:32.073Z"
   },
   {
    "duration": 525,
    "start_time": "2025-04-02T22:04:39.885Z"
   },
   {
    "duration": 694,
    "start_time": "2025-04-02T22:04:44.435Z"
   },
   {
    "duration": 800,
    "start_time": "2025-04-02T22:05:53.623Z"
   },
   {
    "duration": 79,
    "start_time": "2025-04-02T22:06:29.539Z"
   },
   {
    "duration": 23,
    "start_time": "2025-04-02T22:09:10.113Z"
   },
   {
    "duration": 98,
    "start_time": "2025-04-02T22:09:14.212Z"
   },
   {
    "duration": 322,
    "start_time": "2025-04-02T22:11:11.859Z"
   },
   {
    "duration": 2848,
    "start_time": "2025-04-02T22:12:54.829Z"
   },
   {
    "duration": 134,
    "start_time": "2025-04-03T00:09:17.115Z"
   },
   {
    "duration": 3,
    "start_time": "2025-04-03T00:36:49.070Z"
   },
   {
    "duration": 4,
    "start_time": "2025-04-03T00:36:51.821Z"
   },
   {
    "duration": 9,
    "start_time": "2025-04-03T00:36:58.539Z"
   },
   {
    "duration": 9,
    "start_time": "2025-04-03T00:37:00.612Z"
   },
   {
    "duration": 2119,
    "start_time": "2025-04-03T00:37:25.238Z"
   },
   {
    "duration": 960,
    "start_time": "2025-04-03T00:37:27.360Z"
   },
   {
    "duration": 8,
    "start_time": "2025-04-03T00:37:28.321Z"
   },
   {
    "duration": 3,
    "start_time": "2025-04-03T00:37:28.331Z"
   },
   {
    "duration": 11,
    "start_time": "2025-04-03T00:37:28.677Z"
   },
   {
    "duration": 9,
    "start_time": "2025-04-03T00:37:29.093Z"
   },
   {
    "duration": 3,
    "start_time": "2025-04-03T00:37:29.492Z"
   },
   {
    "duration": 10,
    "start_time": "2025-04-03T00:37:29.903Z"
   },
   {
    "duration": 18,
    "start_time": "2025-04-03T00:37:30.399Z"
   },
   {
    "duration": 130,
    "start_time": "2025-04-03T00:37:30.867Z"
   },
   {
    "duration": 318,
    "start_time": "2025-04-03T00:37:31.307Z"
   },
   {
    "duration": 2510,
    "start_time": "2025-04-03T00:37:33.400Z"
   },
   {
    "duration": 2,
    "start_time": "2025-04-03T00:37:39.251Z"
   },
   {
    "duration": 4,
    "start_time": "2025-04-03T00:37:41.188Z"
   },
   {
    "duration": 254,
    "start_time": "2025-04-03T00:48:17.135Z"
   },
   {
    "duration": 23,
    "start_time": "2025-04-03T00:48:35.230Z"
   },
   {
    "duration": 109,
    "start_time": "2025-04-03T00:48:37.952Z"
   },
   {
    "duration": 3,
    "start_time": "2025-04-03T00:48:40.751Z"
   },
   {
    "duration": 24,
    "start_time": "2025-04-03T00:48:52.157Z"
   },
   {
    "duration": 4,
    "start_time": "2025-04-03T00:50:14.244Z"
   },
   {
    "duration": 4,
    "start_time": "2025-04-03T00:50:17.417Z"
   },
   {
    "duration": 17,
    "start_time": "2025-04-03T00:50:19.420Z"
   },
   {
    "duration": 15,
    "start_time": "2025-04-03T00:50:29.214Z"
   },
   {
    "duration": 14,
    "start_time": "2025-04-03T00:50:35.369Z"
   },
   {
    "duration": 13,
    "start_time": "2025-04-03T00:51:45.265Z"
   },
   {
    "duration": 13,
    "start_time": "2025-04-03T00:51:47.824Z"
   },
   {
    "duration": 9,
    "start_time": "2025-04-03T00:52:52.234Z"
   },
   {
    "duration": 12,
    "start_time": "2025-04-03T00:52:53.216Z"
   },
   {
    "duration": 14,
    "start_time": "2025-04-03T00:53:05.435Z"
   },
   {
    "duration": 14,
    "start_time": "2025-04-03T00:53:06.547Z"
   },
   {
    "duration": 384,
    "start_time": "2025-04-03T01:01:47.231Z"
   },
   {
    "duration": 151,
    "start_time": "2025-04-03T01:02:07.985Z"
   },
   {
    "duration": 46,
    "start_time": "2025-04-03T01:02:15.322Z"
   },
   {
    "duration": 3,
    "start_time": "2025-04-03T01:03:27.034Z"
   },
   {
    "duration": 4,
    "start_time": "2025-04-03T01:03:30.693Z"
   },
   {
    "duration": 5,
    "start_time": "2025-04-03T01:03:37.867Z"
   },
   {
    "duration": 3,
    "start_time": "2025-04-03T01:05:02.573Z"
   },
   {
    "duration": 3,
    "start_time": "2025-04-03T01:05:05.922Z"
   },
   {
    "duration": 25,
    "start_time": "2025-04-03T01:06:02.381Z"
   },
   {
    "duration": 25,
    "start_time": "2025-04-03T01:07:11.349Z"
   },
   {
    "duration": 27,
    "start_time": "2025-04-03T01:07:13.457Z"
   },
   {
    "duration": 5,
    "start_time": "2025-04-03T01:07:19.364Z"
   },
   {
    "duration": 3,
    "start_time": "2025-04-03T01:07:19.865Z"
   },
   {
    "duration": 25,
    "start_time": "2025-04-03T01:07:20.564Z"
   },
   {
    "duration": 17,
    "start_time": "2025-04-03T01:07:58.566Z"
   },
   {
    "duration": 9,
    "start_time": "2025-04-03T01:08:04.277Z"
   },
   {
    "duration": 4,
    "start_time": "2025-04-03T01:08:31.281Z"
   },
   {
    "duration": 23,
    "start_time": "2025-04-03T01:08:37.466Z"
   },
   {
    "duration": 24,
    "start_time": "2025-04-03T01:10:03.725Z"
   },
   {
    "duration": 10,
    "start_time": "2025-04-03T01:22:49.089Z"
   },
   {
    "duration": 11,
    "start_time": "2025-04-03T01:25:16.754Z"
   },
   {
    "duration": 11,
    "start_time": "2025-04-03T01:25:36.110Z"
   },
   {
    "duration": 11,
    "start_time": "2025-04-03T01:25:40.997Z"
   },
   {
    "duration": 3,
    "start_time": "2025-04-03T01:40:03.073Z"
   },
   {
    "duration": 5,
    "start_time": "2025-04-03T02:09:08.542Z"
   },
   {
    "duration": 7,
    "start_time": "2025-04-03T02:09:22.454Z"
   },
   {
    "duration": 9,
    "start_time": "2025-04-03T02:19:38.029Z"
   },
   {
    "duration": 5,
    "start_time": "2025-04-03T02:20:24.806Z"
   },
   {
    "duration": 5,
    "start_time": "2025-04-03T02:22:54.729Z"
   },
   {
    "duration": 5,
    "start_time": "2025-04-03T02:26:27.746Z"
   },
   {
    "duration": 5,
    "start_time": "2025-04-03T02:26:32.603Z"
   },
   {
    "duration": 4,
    "start_time": "2025-04-03T02:26:46.414Z"
   },
   {
    "duration": 4,
    "start_time": "2025-04-03T02:26:53.956Z"
   },
   {
    "duration": 328,
    "start_time": "2025-04-03T02:27:08.706Z"
   },
   {
    "duration": 4,
    "start_time": "2025-04-03T02:27:21.426Z"
   },
   {
    "duration": 538,
    "start_time": "2025-04-03T02:27:25.917Z"
   },
   {
    "duration": 11,
    "start_time": "2025-04-03T02:30:50.545Z"
   },
   {
    "duration": 12,
    "start_time": "2025-04-03T02:31:14.528Z"
   },
   {
    "duration": 4,
    "start_time": "2025-04-03T02:37:30.352Z"
   },
   {
    "duration": 3,
    "start_time": "2025-04-03T02:37:48.761Z"
   },
   {
    "duration": 3,
    "start_time": "2025-04-03T02:37:55.338Z"
   },
   {
    "duration": 399,
    "start_time": "2025-04-03T02:38:15.127Z"
   },
   {
    "duration": 3,
    "start_time": "2025-04-03T02:41:02.927Z"
   },
   {
    "duration": 2,
    "start_time": "2025-04-03T02:41:15.706Z"
   },
   {
    "duration": 25,
    "start_time": "2025-04-03T02:41:18.028Z"
   },
   {
    "duration": 17,
    "start_time": "2025-04-03T02:42:17.116Z"
   },
   {
    "duration": 23,
    "start_time": "2025-04-03T02:42:25.539Z"
   },
   {
    "duration": 2,
    "start_time": "2025-04-03T02:44:29.369Z"
   },
   {
    "duration": 3,
    "start_time": "2025-04-03T02:44:30.659Z"
   },
   {
    "duration": 22,
    "start_time": "2025-04-03T02:44:31.366Z"
   },
   {
    "duration": 4,
    "start_time": "2025-04-03T03:26:04.826Z"
   },
   {
    "duration": 2,
    "start_time": "2025-04-03T03:26:06.729Z"
   },
   {
    "duration": 27,
    "start_time": "2025-04-03T03:26:11.111Z"
   },
   {
    "duration": 4,
    "start_time": "2025-04-03T03:27:56.333Z"
   },
   {
    "duration": 3,
    "start_time": "2025-04-03T03:27:57.989Z"
   },
   {
    "duration": 76,
    "start_time": "2025-04-03T03:28:00.735Z"
   },
   {
    "duration": 3,
    "start_time": "2025-04-03T03:28:44.923Z"
   },
   {
    "duration": 4,
    "start_time": "2025-04-03T03:28:53.498Z"
   },
   {
    "duration": 3,
    "start_time": "2025-04-03T03:28:53.977Z"
   },
   {
    "duration": 8,
    "start_time": "2025-04-03T03:28:55.406Z"
   },
   {
    "duration": 8,
    "start_time": "2025-04-03T03:29:34.594Z"
   },
   {
    "duration": 9,
    "start_time": "2025-04-03T03:31:06.031Z"
   },
   {
    "duration": 4,
    "start_time": "2025-04-03T04:01:04.967Z"
   },
   {
    "duration": 3,
    "start_time": "2025-04-03T04:01:06.478Z"
   },
   {
    "duration": 3,
    "start_time": "2025-04-03T04:01:08.287Z"
   },
   {
    "duration": 4,
    "start_time": "2025-04-03T04:01:14.330Z"
   },
   {
    "duration": 4,
    "start_time": "2025-04-03T04:01:58.164Z"
   },
   {
    "duration": 18,
    "start_time": "2025-04-03T04:02:04.303Z"
   },
   {
    "duration": 4,
    "start_time": "2025-04-03T04:04:39.651Z"
   },
   {
    "duration": 17,
    "start_time": "2025-04-03T04:05:00.399Z"
   },
   {
    "duration": 13,
    "start_time": "2025-04-03T04:06:02.346Z"
   },
   {
    "duration": 4,
    "start_time": "2025-04-03T04:06:10.121Z"
   },
   {
    "duration": 14,
    "start_time": "2025-04-03T04:07:33.829Z"
   },
   {
    "duration": 14,
    "start_time": "2025-04-03T04:08:09.837Z"
   },
   {
    "duration": 19,
    "start_time": "2025-04-03T04:13:20.314Z"
   },
   {
    "duration": 13,
    "start_time": "2025-04-03T04:13:29.625Z"
   },
   {
    "duration": 3,
    "start_time": "2025-04-03T04:25:52.425Z"
   },
   {
    "duration": 3,
    "start_time": "2025-04-03T16:37:28.086Z"
   },
   {
    "duration": 4,
    "start_time": "2025-04-03T16:37:58.015Z"
   },
   {
    "duration": 3,
    "start_time": "2025-04-03T16:38:38.345Z"
   },
   {
    "duration": 4,
    "start_time": "2025-04-03T16:39:08.535Z"
   },
   {
    "duration": 5,
    "start_time": "2025-04-03T17:15:01.062Z"
   },
   {
    "duration": 4,
    "start_time": "2025-04-03T17:17:04.235Z"
   },
   {
    "duration": 2,
    "start_time": "2025-04-03T17:22:52.981Z"
   },
   {
    "duration": 5,
    "start_time": "2025-04-03T17:23:01.816Z"
   },
   {
    "duration": 3,
    "start_time": "2025-04-03T17:23:17.542Z"
   },
   {
    "duration": 4,
    "start_time": "2025-04-03T17:23:21.378Z"
   },
   {
    "duration": 4,
    "start_time": "2025-04-03T17:23:49.230Z"
   },
   {
    "duration": 4,
    "start_time": "2025-04-03T17:51:38.846Z"
   },
   {
    "duration": 4,
    "start_time": "2025-04-03T17:51:51.203Z"
   },
   {
    "duration": 8,
    "start_time": "2025-04-03T17:59:13.971Z"
   },
   {
    "duration": 2085,
    "start_time": "2025-04-03T18:02:41.188Z"
   },
   {
    "duration": 950,
    "start_time": "2025-04-03T18:02:43.276Z"
   },
   {
    "duration": 6,
    "start_time": "2025-04-03T18:02:44.228Z"
   },
   {
    "duration": 3,
    "start_time": "2025-04-03T18:02:44.236Z"
   },
   {
    "duration": 9,
    "start_time": "2025-04-03T18:02:44.242Z"
   },
   {
    "duration": 8,
    "start_time": "2025-04-03T18:02:44.253Z"
   },
   {
    "duration": 3,
    "start_time": "2025-04-03T18:02:44.262Z"
   },
   {
    "duration": 8,
    "start_time": "2025-04-03T18:02:44.267Z"
   },
   {
    "duration": 44,
    "start_time": "2025-04-03T18:02:44.276Z"
   },
   {
    "duration": 134,
    "start_time": "2025-04-03T18:02:44.322Z"
   },
   {
    "duration": 326,
    "start_time": "2025-04-03T18:02:44.458Z"
   },
   {
    "duration": 2520,
    "start_time": "2025-04-03T18:02:44.785Z"
   },
   {
    "duration": 6,
    "start_time": "2025-04-03T18:02:47.307Z"
   },
   {
    "duration": 4,
    "start_time": "2025-04-03T18:02:47.317Z"
   },
   {
    "duration": 14,
    "start_time": "2025-04-03T18:02:47.323Z"
   },
   {
    "duration": 13,
    "start_time": "2025-04-03T18:02:47.339Z"
   },
   {
    "duration": 8,
    "start_time": "2025-04-03T18:02:47.354Z"
   },
   {
    "duration": 9,
    "start_time": "2025-04-03T18:02:47.364Z"
   },
   {
    "duration": 40,
    "start_time": "2025-04-03T18:02:47.375Z"
   },
   {
    "duration": 12,
    "start_time": "2025-04-03T18:02:47.417Z"
   },
   {
    "duration": 11,
    "start_time": "2025-04-03T18:02:47.430Z"
   },
   {
    "duration": 5,
    "start_time": "2025-04-03T18:02:47.442Z"
   },
   {
    "duration": 4,
    "start_time": "2025-04-03T18:02:47.448Z"
   },
   {
    "duration": 268,
    "start_time": "2025-04-03T18:02:47.453Z"
   },
   {
    "duration": 10,
    "start_time": "2025-04-03T18:02:47.723Z"
   },
   {
    "duration": 320,
    "start_time": "2025-04-03T18:02:47.735Z"
   },
   {
    "duration": 3,
    "start_time": "2025-04-03T18:02:48.056Z"
   },
   {
    "duration": 3,
    "start_time": "2025-04-03T18:02:48.061Z"
   },
   {
    "duration": 20,
    "start_time": "2025-04-03T18:02:48.065Z"
   },
   {
    "duration": 21,
    "start_time": "2025-04-03T18:02:48.088Z"
   },
   {
    "duration": 4,
    "start_time": "2025-04-03T18:02:48.110Z"
   },
   {
    "duration": 17,
    "start_time": "2025-04-03T18:02:48.115Z"
   },
   {
    "duration": 74,
    "start_time": "2025-04-03T18:02:48.135Z"
   },
   {
    "duration": 4,
    "start_time": "2025-04-03T18:02:48.210Z"
   },
   {
    "duration": 4,
    "start_time": "2025-04-03T18:02:48.218Z"
   },
   {
    "duration": 5,
    "start_time": "2025-04-03T18:02:48.224Z"
   },
   {
    "duration": 81,
    "start_time": "2025-04-03T18:02:48.231Z"
   },
   {
    "duration": 4,
    "start_time": "2025-04-03T18:02:48.313Z"
   },
   {
    "duration": 5,
    "start_time": "2025-04-03T18:02:48.318Z"
   },
   {
    "duration": 5,
    "start_time": "2025-04-03T18:02:48.324Z"
   },
   {
    "duration": 4,
    "start_time": "2025-04-03T18:08:04.623Z"
   },
   {
    "duration": 225,
    "start_time": "2025-04-03T18:08:43.984Z"
   },
   {
    "duration": 4,
    "start_time": "2025-04-03T18:08:57.414Z"
   },
   {
    "duration": 3,
    "start_time": "2025-04-03T18:34:08.257Z"
   },
   {
    "duration": 202,
    "start_time": "2025-04-03T18:34:10.877Z"
   },
   {
    "duration": 40,
    "start_time": "2025-04-03T18:35:10.870Z"
   },
   {
    "duration": 106,
    "start_time": "2025-04-03T18:36:34.705Z"
   },
   {
    "duration": 2098,
    "start_time": "2025-04-03T18:37:11.243Z"
   },
   {
    "duration": 970,
    "start_time": "2025-04-03T18:37:13.344Z"
   },
   {
    "duration": 7,
    "start_time": "2025-04-03T18:37:14.316Z"
   },
   {
    "duration": 3,
    "start_time": "2025-04-03T18:37:14.325Z"
   },
   {
    "duration": 9,
    "start_time": "2025-04-03T18:37:14.331Z"
   },
   {
    "duration": 10,
    "start_time": "2025-04-03T18:37:14.341Z"
   },
   {
    "duration": 3,
    "start_time": "2025-04-03T18:37:14.353Z"
   },
   {
    "duration": 8,
    "start_time": "2025-04-03T18:37:14.358Z"
   },
   {
    "duration": 50,
    "start_time": "2025-04-03T18:37:14.367Z"
   },
   {
    "duration": 145,
    "start_time": "2025-04-03T18:37:14.419Z"
   },
   {
    "duration": 326,
    "start_time": "2025-04-03T18:37:14.566Z"
   },
   {
    "duration": 2559,
    "start_time": "2025-04-03T18:37:14.894Z"
   },
   {
    "duration": 3,
    "start_time": "2025-04-03T18:37:17.455Z"
   },
   {
    "duration": 4,
    "start_time": "2025-04-03T18:37:17.462Z"
   },
   {
    "duration": 13,
    "start_time": "2025-04-03T18:37:17.468Z"
   },
   {
    "duration": 12,
    "start_time": "2025-04-03T18:37:17.483Z"
   },
   {
    "duration": 17,
    "start_time": "2025-04-03T18:37:17.497Z"
   },
   {
    "duration": 8,
    "start_time": "2025-04-03T18:37:17.516Z"
   },
   {
    "duration": 12,
    "start_time": "2025-04-03T18:37:17.526Z"
   },
   {
    "duration": 12,
    "start_time": "2025-04-03T18:37:17.540Z"
   },
   {
    "duration": 10,
    "start_time": "2025-04-03T18:37:17.553Z"
   },
   {
    "duration": 4,
    "start_time": "2025-04-03T18:37:17.565Z"
   },
   {
    "duration": 39,
    "start_time": "2025-04-03T18:37:17.571Z"
   },
   {
    "duration": 255,
    "start_time": "2025-04-03T18:37:17.611Z"
   },
   {
    "duration": 10,
    "start_time": "2025-04-03T18:37:17.869Z"
   },
   {
    "duration": 324,
    "start_time": "2025-04-03T18:37:17.880Z"
   },
   {
    "duration": 2,
    "start_time": "2025-04-03T18:37:18.209Z"
   },
   {
    "duration": 2,
    "start_time": "2025-04-03T18:37:18.213Z"
   },
   {
    "duration": 18,
    "start_time": "2025-04-03T18:37:18.217Z"
   },
   {
    "duration": 4,
    "start_time": "2025-04-03T18:37:18.237Z"
   },
   {
    "duration": 3,
    "start_time": "2025-04-03T18:37:18.243Z"
   },
   {
    "duration": 6,
    "start_time": "2025-04-03T18:37:18.248Z"
   },
   {
    "duration": 58,
    "start_time": "2025-04-03T18:37:18.255Z"
   },
   {
    "duration": 4,
    "start_time": "2025-04-03T18:37:18.314Z"
   },
   {
    "duration": 6,
    "start_time": "2025-04-03T18:37:18.319Z"
   },
   {
    "duration": 80,
    "start_time": "2025-04-03T18:37:18.329Z"
   },
   {
    "duration": 3,
    "start_time": "2025-04-03T18:37:18.412Z"
   },
   {
    "duration": 4,
    "start_time": "2025-04-03T18:37:18.417Z"
   },
   {
    "duration": 4,
    "start_time": "2025-04-03T18:37:18.423Z"
   },
   {
    "duration": 4,
    "start_time": "2025-04-03T18:37:18.428Z"
   },
   {
    "duration": 4,
    "start_time": "2025-04-03T18:37:18.513Z"
   },
   {
    "duration": 4,
    "start_time": "2025-04-03T18:37:18.519Z"
   },
   {
    "duration": 4,
    "start_time": "2025-04-03T18:37:18.525Z"
   },
   {
    "duration": 499,
    "start_time": "2025-04-03T18:37:18.531Z"
   },
   {
    "duration": 33,
    "start_time": "2025-04-03T18:39:13.891Z"
   },
   {
    "duration": 26,
    "start_time": "2025-04-03T18:41:13.526Z"
   },
   {
    "duration": 38,
    "start_time": "2025-04-03T18:41:30.772Z"
   },
   {
    "duration": 2105,
    "start_time": "2025-04-03T18:41:51.981Z"
   },
   {
    "duration": 934,
    "start_time": "2025-04-03T18:41:54.089Z"
   },
   {
    "duration": 7,
    "start_time": "2025-04-03T18:41:55.025Z"
   },
   {
    "duration": 3,
    "start_time": "2025-04-03T18:41:55.034Z"
   },
   {
    "duration": 9,
    "start_time": "2025-04-03T18:41:55.038Z"
   },
   {
    "duration": 8,
    "start_time": "2025-04-03T18:41:55.049Z"
   },
   {
    "duration": 3,
    "start_time": "2025-04-03T18:41:55.058Z"
   },
   {
    "duration": 7,
    "start_time": "2025-04-03T18:41:55.063Z"
   },
   {
    "duration": 51,
    "start_time": "2025-04-03T18:41:55.071Z"
   },
   {
    "duration": 137,
    "start_time": "2025-04-03T18:41:55.126Z"
   },
   {
    "duration": 317,
    "start_time": "2025-04-03T18:41:55.264Z"
   },
   {
    "duration": 2509,
    "start_time": "2025-04-03T18:41:55.582Z"
   },
   {
    "duration": 2,
    "start_time": "2025-04-03T18:41:58.093Z"
   },
   {
    "duration": 4,
    "start_time": "2025-04-03T18:41:58.097Z"
   },
   {
    "duration": 13,
    "start_time": "2025-04-03T18:41:58.103Z"
   },
   {
    "duration": 12,
    "start_time": "2025-04-03T18:41:58.117Z"
   },
   {
    "duration": 8,
    "start_time": "2025-04-03T18:41:58.132Z"
   },
   {
    "duration": 7,
    "start_time": "2025-04-03T18:41:58.141Z"
   },
   {
    "duration": 12,
    "start_time": "2025-04-03T18:41:58.149Z"
   },
   {
    "duration": 12,
    "start_time": "2025-04-03T18:41:58.163Z"
   },
   {
    "duration": 40,
    "start_time": "2025-04-03T18:41:58.177Z"
   },
   {
    "duration": 5,
    "start_time": "2025-04-03T18:41:58.219Z"
   },
   {
    "duration": 3,
    "start_time": "2025-04-03T18:41:58.227Z"
   },
   {
    "duration": 244,
    "start_time": "2025-04-03T18:41:58.232Z"
   },
   {
    "duration": 15,
    "start_time": "2025-04-03T18:41:58.478Z"
   },
   {
    "duration": 338,
    "start_time": "2025-04-03T18:41:58.496Z"
   },
   {
    "duration": 3,
    "start_time": "2025-04-03T18:41:58.836Z"
   },
   {
    "duration": 3,
    "start_time": "2025-04-03T18:41:58.843Z"
   },
   {
    "duration": 20,
    "start_time": "2025-04-03T18:41:58.847Z"
   },
   {
    "duration": 4,
    "start_time": "2025-04-03T18:41:58.869Z"
   },
   {
    "duration": 3,
    "start_time": "2025-04-03T18:41:58.876Z"
   },
   {
    "duration": 37,
    "start_time": "2025-04-03T18:41:58.881Z"
   },
   {
    "duration": 11,
    "start_time": "2025-04-03T18:41:58.920Z"
   },
   {
    "duration": 3,
    "start_time": "2025-04-03T18:41:58.933Z"
   },
   {
    "duration": 82,
    "start_time": "2025-04-03T18:41:58.938Z"
   },
   {
    "duration": 4,
    "start_time": "2025-04-03T18:41:59.022Z"
   },
   {
    "duration": 6,
    "start_time": "2025-04-03T18:41:59.029Z"
   },
   {
    "duration": 6,
    "start_time": "2025-04-03T18:41:59.108Z"
   },
   {
    "duration": 4,
    "start_time": "2025-04-03T18:41:59.115Z"
   },
   {
    "duration": 8,
    "start_time": "2025-04-03T18:41:59.126Z"
   },
   {
    "duration": 4,
    "start_time": "2025-04-03T18:41:59.136Z"
   },
   {
    "duration": 71,
    "start_time": "2025-04-03T18:41:59.141Z"
   },
   {
    "duration": 3,
    "start_time": "2025-04-03T18:41:59.214Z"
   },
   {
    "duration": 454,
    "start_time": "2025-04-03T18:41:59.219Z"
   },
   {
    "duration": 8,
    "start_time": "2025-04-03T18:44:36.344Z"
   },
   {
    "duration": 2085,
    "start_time": "2025-04-03T18:46:21.792Z"
   },
   {
    "duration": 942,
    "start_time": "2025-04-03T18:46:23.879Z"
   },
   {
    "duration": 8,
    "start_time": "2025-04-03T18:46:24.822Z"
   },
   {
    "duration": 3,
    "start_time": "2025-04-03T18:46:24.833Z"
   },
   {
    "duration": 11,
    "start_time": "2025-04-03T18:46:24.837Z"
   },
   {
    "duration": 8,
    "start_time": "2025-04-03T18:46:24.849Z"
   },
   {
    "duration": 3,
    "start_time": "2025-04-03T18:46:24.859Z"
   },
   {
    "duration": 8,
    "start_time": "2025-04-03T18:46:24.864Z"
   },
   {
    "duration": 49,
    "start_time": "2025-04-03T18:46:24.873Z"
   },
   {
    "duration": 141,
    "start_time": "2025-04-03T18:46:24.925Z"
   },
   {
    "duration": 323,
    "start_time": "2025-04-03T18:46:25.068Z"
   },
   {
    "duration": 2544,
    "start_time": "2025-04-03T18:46:25.393Z"
   },
   {
    "duration": 5,
    "start_time": "2025-04-03T18:46:27.939Z"
   },
   {
    "duration": 4,
    "start_time": "2025-04-03T18:46:27.945Z"
   },
   {
    "duration": 12,
    "start_time": "2025-04-03T18:46:27.951Z"
   },
   {
    "duration": 13,
    "start_time": "2025-04-03T18:46:27.964Z"
   },
   {
    "duration": 7,
    "start_time": "2025-04-03T18:46:27.980Z"
   },
   {
    "duration": 24,
    "start_time": "2025-04-03T18:46:27.989Z"
   },
   {
    "duration": 12,
    "start_time": "2025-04-03T18:46:28.014Z"
   },
   {
    "duration": 11,
    "start_time": "2025-04-03T18:46:28.028Z"
   },
   {
    "duration": 11,
    "start_time": "2025-04-03T18:46:28.040Z"
   },
   {
    "duration": 4,
    "start_time": "2025-04-03T18:46:28.053Z"
   },
   {
    "duration": 4,
    "start_time": "2025-04-03T18:46:28.059Z"
   },
   {
    "duration": 282,
    "start_time": "2025-04-03T18:46:28.064Z"
   },
   {
    "duration": 11,
    "start_time": "2025-04-03T18:46:28.348Z"
   },
   {
    "duration": 356,
    "start_time": "2025-04-03T18:46:28.361Z"
   },
   {
    "duration": 4,
    "start_time": "2025-04-03T18:46:28.719Z"
   },
   {
    "duration": 3,
    "start_time": "2025-04-03T18:46:28.727Z"
   },
   {
    "duration": 27,
    "start_time": "2025-04-03T18:46:28.733Z"
   },
   {
    "duration": 6,
    "start_time": "2025-04-03T18:46:28.762Z"
   },
   {
    "duration": 3,
    "start_time": "2025-04-03T18:46:28.770Z"
   },
   {
    "duration": 40,
    "start_time": "2025-04-03T18:46:28.778Z"
   },
   {
    "duration": 8,
    "start_time": "2025-04-03T18:46:28.823Z"
   },
   {
    "duration": 75,
    "start_time": "2025-04-03T18:46:28.834Z"
   },
   {
    "duration": 5,
    "start_time": "2025-04-03T18:46:28.914Z"
   },
   {
    "duration": 6,
    "start_time": "2025-04-03T18:46:28.921Z"
   },
   {
    "duration": 3,
    "start_time": "2025-04-03T18:46:28.929Z"
   },
   {
    "duration": 74,
    "start_time": "2025-04-03T18:46:28.934Z"
   },
   {
    "duration": 7,
    "start_time": "2025-04-03T18:46:29.011Z"
   },
   {
    "duration": 4,
    "start_time": "2025-04-03T18:46:29.019Z"
   },
   {
    "duration": 4,
    "start_time": "2025-04-03T18:46:29.025Z"
   },
   {
    "duration": 4,
    "start_time": "2025-04-03T18:46:29.030Z"
   },
   {
    "duration": 74,
    "start_time": "2025-04-03T18:46:29.036Z"
   },
   {
    "duration": 6,
    "start_time": "2025-04-03T18:46:29.112Z"
   },
   {
    "duration": 3111,
    "start_time": "2025-04-04T00:48:31.231Z"
   },
   {
    "duration": 1329,
    "start_time": "2025-04-04T00:48:34.344Z"
   },
   {
    "duration": 12,
    "start_time": "2025-04-04T00:48:35.675Z"
   },
   {
    "duration": 3,
    "start_time": "2025-04-04T00:48:35.691Z"
   },
   {
    "duration": 23,
    "start_time": "2025-04-04T00:48:35.696Z"
   },
   {
    "duration": 11,
    "start_time": "2025-04-04T00:48:35.722Z"
   },
   {
    "duration": 4,
    "start_time": "2025-04-04T00:48:35.735Z"
   },
   {
    "duration": 10,
    "start_time": "2025-04-04T00:48:35.741Z"
   },
   {
    "duration": 22,
    "start_time": "2025-04-04T00:48:35.753Z"
   },
   {
    "duration": 221,
    "start_time": "2025-04-04T00:48:35.779Z"
   },
   {
    "duration": 497,
    "start_time": "2025-04-04T00:48:36.003Z"
   },
   {
    "duration": 3382,
    "start_time": "2025-04-04T00:48:36.502Z"
   },
   {
    "duration": 7,
    "start_time": "2025-04-04T00:48:39.886Z"
   },
   {
    "duration": 5,
    "start_time": "2025-04-04T00:48:39.895Z"
   },
   {
    "duration": 18,
    "start_time": "2025-04-04T00:48:39.902Z"
   },
   {
    "duration": 19,
    "start_time": "2025-04-04T00:48:39.923Z"
   },
   {
    "duration": 11,
    "start_time": "2025-04-04T00:48:39.944Z"
   },
   {
    "duration": 10,
    "start_time": "2025-04-04T00:48:39.957Z"
   },
   {
    "duration": 39,
    "start_time": "2025-04-04T00:48:39.970Z"
   },
   {
    "duration": 15,
    "start_time": "2025-04-04T00:48:40.012Z"
   },
   {
    "duration": 13,
    "start_time": "2025-04-04T00:48:40.029Z"
   },
   {
    "duration": 7,
    "start_time": "2025-04-04T00:48:40.044Z"
   },
   {
    "duration": 4,
    "start_time": "2025-04-04T00:48:40.053Z"
   },
   {
    "duration": 316,
    "start_time": "2025-04-04T00:48:40.060Z"
   },
   {
    "duration": 13,
    "start_time": "2025-04-04T00:48:40.378Z"
   },
   {
    "duration": 342,
    "start_time": "2025-04-04T00:48:40.393Z"
   },
   {
    "duration": 4,
    "start_time": "2025-04-04T00:48:40.739Z"
   },
   {
    "duration": 4,
    "start_time": "2025-04-04T00:48:40.749Z"
   },
   {
    "duration": 22,
    "start_time": "2025-04-04T00:48:40.755Z"
   },
   {
    "duration": 6,
    "start_time": "2025-04-04T00:48:40.779Z"
   },
   {
    "duration": 21,
    "start_time": "2025-04-04T00:48:40.789Z"
   },
   {
    "duration": 20,
    "start_time": "2025-04-04T00:48:40.812Z"
   },
   {
    "duration": 17,
    "start_time": "2025-04-04T00:48:40.836Z"
   },
   {
    "duration": 16,
    "start_time": "2025-04-04T00:48:40.921Z"
   },
   {
    "duration": 7,
    "start_time": "2025-04-04T00:48:40.944Z"
   },
   {
    "duration": 63,
    "start_time": "2025-04-04T00:48:40.952Z"
   },
   {
    "duration": 11,
    "start_time": "2025-04-04T00:48:41.017Z"
   },
   {
    "duration": 14,
    "start_time": "2025-04-04T00:48:41.031Z"
   },
   {
    "duration": 10,
    "start_time": "2025-04-04T00:48:41.050Z"
   },
   {
    "duration": 11,
    "start_time": "2025-04-04T00:48:41.111Z"
   },
   {
    "duration": 4,
    "start_time": "2025-04-04T00:48:41.125Z"
   },
   {
    "duration": 23,
    "start_time": "2025-04-04T00:48:41.131Z"
   },
   {
    "duration": 54,
    "start_time": "2025-04-04T00:48:41.158Z"
   },
   {
    "duration": 25,
    "start_time": "2025-04-04T00:48:41.214Z"
   },
   {
    "duration": 2717,
    "start_time": "2025-04-04T04:09:21.317Z"
   },
   {
    "duration": 1116,
    "start_time": "2025-04-04T04:09:24.036Z"
   },
   {
    "duration": 13,
    "start_time": "2025-04-04T04:09:25.154Z"
   },
   {
    "duration": 5,
    "start_time": "2025-04-04T04:09:25.170Z"
   },
   {
    "duration": 12,
    "start_time": "2025-04-04T04:09:25.178Z"
   },
   {
    "duration": 11,
    "start_time": "2025-04-04T04:09:25.191Z"
   },
   {
    "duration": 3,
    "start_time": "2025-04-04T04:09:25.204Z"
   },
   {
    "duration": 10,
    "start_time": "2025-04-04T04:09:25.209Z"
   },
   {
    "duration": 25,
    "start_time": "2025-04-04T04:09:25.228Z"
   },
   {
    "duration": 143,
    "start_time": "2025-04-04T04:09:25.257Z"
   },
   {
    "duration": 356,
    "start_time": "2025-04-04T04:09:25.402Z"
   },
   {
    "duration": 2857,
    "start_time": "2025-04-04T04:09:25.760Z"
   },
   {
    "duration": 8,
    "start_time": "2025-04-04T04:09:28.619Z"
   },
   {
    "duration": 5,
    "start_time": "2025-04-04T04:09:28.628Z"
   },
   {
    "duration": 16,
    "start_time": "2025-04-04T04:09:28.635Z"
   },
   {
    "duration": 14,
    "start_time": "2025-04-04T04:09:28.653Z"
   },
   {
    "duration": 9,
    "start_time": "2025-04-04T04:09:28.668Z"
   },
   {
    "duration": 8,
    "start_time": "2025-04-04T04:09:28.678Z"
   },
   {
    "duration": 46,
    "start_time": "2025-04-04T04:09:28.687Z"
   },
   {
    "duration": 18,
    "start_time": "2025-04-04T04:09:28.740Z"
   },
   {
    "duration": 11,
    "start_time": "2025-04-04T04:09:28.760Z"
   },
   {
    "duration": 4,
    "start_time": "2025-04-04T04:09:28.774Z"
   },
   {
    "duration": 4,
    "start_time": "2025-04-04T04:09:28.781Z"
   },
   {
    "duration": 305,
    "start_time": "2025-04-04T04:09:28.787Z"
   },
   {
    "duration": 14,
    "start_time": "2025-04-04T04:09:29.094Z"
   },
   {
    "duration": 408,
    "start_time": "2025-04-04T04:09:29.113Z"
   },
   {
    "duration": 4,
    "start_time": "2025-04-04T04:09:29.523Z"
   },
   {
    "duration": 4,
    "start_time": "2025-04-04T04:09:29.534Z"
   },
   {
    "duration": 30,
    "start_time": "2025-04-04T04:09:29.539Z"
   },
   {
    "duration": 4,
    "start_time": "2025-04-04T04:09:29.570Z"
   },
   {
    "duration": 5,
    "start_time": "2025-04-04T04:09:29.576Z"
   },
   {
    "duration": 11,
    "start_time": "2025-04-04T04:09:29.583Z"
   },
   {
    "duration": 18,
    "start_time": "2025-04-04T04:09:29.625Z"
   },
   {
    "duration": 6,
    "start_time": "2025-04-04T04:09:29.645Z"
   },
   {
    "duration": 7,
    "start_time": "2025-04-04T04:09:29.653Z"
   },
   {
    "duration": 7,
    "start_time": "2025-04-04T04:09:29.662Z"
   },
   {
    "duration": 15,
    "start_time": "2025-04-04T04:09:29.726Z"
   },
   {
    "duration": 7,
    "start_time": "2025-04-04T04:09:29.744Z"
   },
   {
    "duration": 7,
    "start_time": "2025-04-04T04:09:29.754Z"
   },
   {
    "duration": 11,
    "start_time": "2025-04-04T04:09:29.763Z"
   },
   {
    "duration": 4,
    "start_time": "2025-04-04T04:09:29.776Z"
   },
   {
    "duration": 46,
    "start_time": "2025-04-04T04:09:29.782Z"
   },
   {
    "duration": 5,
    "start_time": "2025-04-04T04:09:29.830Z"
   },
   {
    "duration": 10,
    "start_time": "2025-04-04T04:09:29.837Z"
   }
  ],
  "kernelspec": {
   "display_name": "Python 3 (ipykernel)",
   "language": "python",
   "name": "python3"
  },
  "language_info": {
   "codemirror_mode": {
    "name": "ipython",
    "version": 3
   },
   "file_extension": ".py",
   "mimetype": "text/x-python",
   "name": "python",
   "nbconvert_exporter": "python",
   "pygments_lexer": "ipython3",
   "version": "3.9.19"
  },
  "toc": {
   "base_numbering": 1,
   "nav_menu": {},
   "number_sections": true,
   "sideBar": true,
   "skip_h1_title": true,
   "title_cell": "Table of Contents",
   "title_sidebar": "Contents",
   "toc_cell": false,
   "toc_position": {},
   "toc_section_display": true,
   "toc_window_display": false
  }
 },
 "nbformat": 4,
 "nbformat_minor": 4
}
